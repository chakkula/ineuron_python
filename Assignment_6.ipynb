{
 "cells": [
  {
   "cell_type": "markdown",
   "id": "7e30b6fa",
   "metadata": {},
   "source": [
    "## Assignment 6"
   ]
  },
  {
   "cell_type": "markdown",
   "id": "e2861883",
   "metadata": {},
   "source": [
    "## 1.What are escape characters, and how do you use them?\n",
    "\n",
    "In Python strings, the backslash \"\\\" is a special character, also called the “escape” character. \n",
    "It is used in representing certain whitespace characters: “\\t” is a tab, “\\n” is a new line, and “\\r” is a carriage return. Finally, “ ” can be used to escape itself."
   ]
  },
  {
   "cell_type": "code",
   "execution_count": 1,
   "id": "afcdf35a",
   "metadata": {},
   "outputs": [
    {
     "name": "stdout",
     "output_type": "stream",
     "text": [
      "This is Assignment\u0006\n"
     ]
    }
   ],
   "source": [
    "print(\"This is Assignment\\6\") #representation of escape character"
   ]
  },
  {
   "cell_type": "code",
   "execution_count": 2,
   "id": "4432ecaa",
   "metadata": {},
   "outputs": [
    {
     "name": "stdout",
     "output_type": "stream",
     "text": [
      "This is Assignment\t - tab space\n"
     ]
    }
   ],
   "source": [
    "print(\"This is Assignment\\t - tab space\") #representation of tab space by using escape character with t"
   ]
  },
  {
   "cell_type": "code",
   "execution_count": 3,
   "id": "5346e875",
   "metadata": {},
   "outputs": [
    {
     "name": "stdout",
     "output_type": "stream",
     "text": [
      "This is Assignment\n",
      " - Am I in new line?\n"
     ]
    }
   ],
   "source": [
    "print(\"This is Assignment\\n - Am I in new line?\") #representation of new line by using escape character with n"
   ]
  },
  {
   "cell_type": "code",
   "execution_count": 4,
   "id": "41108151",
   "metadata": {},
   "outputs": [
    {
     "name": "stdout",
     "output_type": "stream",
     "text": [
      "This is Assignment\r",
      " - Am I in new line?\n"
     ]
    }
   ],
   "source": [
    "print(\"This is Assignment\\r - Am I in new line?\") #representation of carriage return by using escape character with r"
   ]
  },
  {
   "cell_type": "markdown",
   "id": "f5fcd702",
   "metadata": {},
   "source": [
    "## 2.What do the escape characters n and t stand for?\n",
    "“\\t” is a tab, “\\n” is a new line. (examples posted above)"
   ]
  },
  {
   "cell_type": "markdown",
   "id": "8962038d",
   "metadata": {},
   "source": [
    "## 3.What is the way to include backslash characters in a string?\n",
    "To insert characters that are illegal in a string, use an escape character. \n",
    "An escape character is a backslash \\ followed by the character you want to insert."
   ]
  },
  {
   "cell_type": "code",
   "execution_count": 5,
   "id": "7ad0c12a",
   "metadata": {},
   "outputs": [
    {
     "name": "stdout",
     "output_type": "stream",
     "text": [
      "H\\i\n"
     ]
    }
   ],
   "source": [
    "print(\"H\\\\i\")"
   ]
  },
  {
   "cell_type": "markdown",
   "id": "0b844f1b",
   "metadata": {},
   "source": [
    "## 4.The string \"Howl's Moving Castle\" is a correct value. Why isn't the single quote character in the word Howl's not escaped a problem?\n",
    "Usage of double quotes to mark the beginning and end of the string ensures that the single quote in Howl's is valid"
   ]
  },
  {
   "cell_type": "code",
   "execution_count": 6,
   "id": "ee23f3d2",
   "metadata": {},
   "outputs": [
    {
     "name": "stdout",
     "output_type": "stream",
     "text": [
      "Howl's Moving Castle\n"
     ]
    }
   ],
   "source": [
    "print(\"Howl's Moving Castle\")"
   ]
  },
  {
   "cell_type": "markdown",
   "id": "4b62220e",
   "metadata": {},
   "source": [
    "## 5.How do you write a string of newlines if you don't want to use the n character?\n",
    "With triple-quoted string literals, we can use actual newlines instead of \\n"
   ]
  },
  {
   "cell_type": "code",
   "execution_count": 7,
   "id": "08e786bc",
   "metadata": {},
   "outputs": [
    {
     "name": "stdout",
     "output_type": "stream",
     "text": [
      "Line1\n",
      "Line2\n",
      "Line3\n"
     ]
    }
   ],
   "source": [
    "print('''Line1\n",
    "Line2\n",
    "Line3''')"
   ]
  },
  {
   "cell_type": "markdown",
   "id": "484e65bc",
   "metadata": {},
   "source": [
    "## 6. What are the values of the given expressions?\n",
    "'Hello, world!'[1]\n",
    "\n",
    "'Hello, world!'[0:5]\n",
    "\n",
    "'Hello, world!'[:5]\n",
    "\n",
    "'Hello, world!'[3:]"
   ]
  },
  {
   "cell_type": "code",
   "execution_count": 8,
   "id": "be1f0689",
   "metadata": {},
   "outputs": [
    {
     "name": "stdout",
     "output_type": "stream",
     "text": [
      "e\n",
      "Hello\n",
      "Hello\n",
      "lo, world!\n"
     ]
    }
   ],
   "source": [
    "print('Hello, world!'[1])    #e\n",
    "print('Hello, world!'[0:5])  #Hello\n",
    "print('Hello, world!'[:5])   #Hello \n",
    "print('Hello, world!'[3:])   #lo, world!"
   ]
  },
  {
   "cell_type": "markdown",
   "id": "0b708918",
   "metadata": {},
   "source": [
    "## 7. What are the values of the following expressions?\n",
    "'Hello'.upper()\n",
    "\n",
    "'Hello'.upper().isupper()\n",
    "\n",
    "'Hello'.upper().lower()"
   ]
  },
  {
   "cell_type": "code",
   "execution_count": 9,
   "id": "9c1d4891",
   "metadata": {},
   "outputs": [
    {
     "name": "stdout",
     "output_type": "stream",
     "text": [
      "HELLO\n",
      "True\n",
      "hello\n"
     ]
    }
   ],
   "source": [
    "print('Hello'.upper())\n",
    "print('Hello'.upper().isupper())\n",
    "print('Hello'.upper().lower())"
   ]
  },
  {
   "cell_type": "markdown",
   "id": "21d9bbbb",
   "metadata": {},
   "source": [
    "## 8. What are the values of the following expressions?\n",
    "'Remember, remember, the fifth of July.'.split()\n",
    "\n",
    "'-'.join('There can only one.'.split())\n",
    "'There-can-only-one.'"
   ]
  },
  {
   "cell_type": "code",
   "execution_count": 10,
   "id": "0da9dbcb",
   "metadata": {},
   "outputs": [
    {
     "name": "stdout",
     "output_type": "stream",
     "text": [
      "['Remember,', 'remember,', 'the', 'fifth', 'of', 'July.']\n",
      "There-can-only-one.\n"
     ]
    }
   ],
   "source": [
    "print('Remember, remember, the fifth of July.'.split())\n",
    "print('-'.join('There can only one.'.split()))\n",
    "#'There-can-only-one.'"
   ]
  },
  {
   "cell_type": "markdown",
   "id": "e836c924",
   "metadata": {},
   "source": [
    "## 9. What are the methods for right-justifying, left-justifying, and centering a string?\n",
    " rjust(), ljust(), Center()"
   ]
  },
  {
   "cell_type": "code",
   "execution_count": 11,
   "id": "adc7a2d9",
   "metadata": {},
   "outputs": [
    {
     "name": "stdout",
     "output_type": "stream",
     "text": [
      "              banana is my favorite fruit.\n"
     ]
    }
   ],
   "source": [
    "txt = \"banana\"\n",
    "\n",
    "x = txt.rjust(20)   #20 The length of the returned string\n",
    "\n",
    "print(x, \"is my favorite fruit.\")"
   ]
  },
  {
   "cell_type": "code",
   "execution_count": 12,
   "id": "98e9c362",
   "metadata": {},
   "outputs": [
    {
     "name": "stdout",
     "output_type": "stream",
     "text": [
      "banana               is my favorite fruit.\n"
     ]
    }
   ],
   "source": [
    "x = txt.ljust(20)\n",
    "\n",
    "print(x, \"is my favorite fruit.\")"
   ]
  },
  {
   "cell_type": "code",
   "execution_count": 13,
   "id": "423f16b5",
   "metadata": {},
   "outputs": [
    {
     "name": "stdout",
     "output_type": "stream",
     "text": [
      "  banana   is my favorite fruit.\n"
     ]
    }
   ],
   "source": [
    "x = txt.center(10)\n",
    "\n",
    "print(x, \"is my favorite fruit.\")"
   ]
  },
  {
   "cell_type": "markdown",
   "id": "a10dfc7d",
   "metadata": {},
   "source": [
    "## 10. What is the best way to remove whitespace characters from the start or end?\n",
    "strip()"
   ]
  },
  {
   "cell_type": "code",
   "execution_count": 14,
   "id": "9e33b918",
   "metadata": {},
   "outputs": [
    {
     "name": "stdout",
     "output_type": "stream",
     "text": [
      "banana\n"
     ]
    }
   ],
   "source": [
    "txt = \"   banana  \"\n",
    "print(txt.strip())"
   ]
  }
 ],
 "metadata": {
  "kernelspec": {
   "display_name": "Python 3",
   "language": "python",
   "name": "python3"
  },
  "language_info": {
   "codemirror_mode": {
    "name": "ipython",
    "version": 3
   },
   "file_extension": ".py",
   "mimetype": "text/x-python",
   "name": "python",
   "nbconvert_exporter": "python",
   "pygments_lexer": "ipython3",
   "version": "3.8.8"
  }
 },
 "nbformat": 4,
 "nbformat_minor": 5
}
