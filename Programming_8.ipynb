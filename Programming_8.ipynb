{
 "cells": [
  {
   "cell_type": "markdown",
   "id": "46ce84a5",
   "metadata": {},
   "source": [
    "## 1. Write a Python Program to Add Two Matrices?"
   ]
  },
  {
   "cell_type": "code",
   "execution_count": 1,
   "id": "a2fbf33b",
   "metadata": {},
   "outputs": [
    {
     "name": "stdout",
     "output_type": "stream",
     "text": [
      "[10, 10, 10]\n",
      "[10, 10, 10]\n",
      "[10, 10, 10]\n"
     ]
    }
   ],
   "source": [
    " # Program to add two matrices using nested loop\n",
    "\n",
    "X = [[1,2,3], [4 ,5,6], [7 ,8,9]]\n",
    "\n",
    "Y = [[9,8,7], [6,5,4], [3,2,1]]\n",
    "\n",
    "\n",
    "result = [[0,0,0], [0,0,0], [0,0,0]]\n",
    "\n",
    "# iterate through rows\n",
    "for i in range(len(X)):\n",
    "    for j in range(len(X[0])):\n",
    "        result[i][j] = X[i][j] + Y[i][j]\n",
    "\n",
    "for r in result:\n",
    "    print(r)\n"
   ]
  },
  {
   "cell_type": "markdown",
   "id": "7d478002",
   "metadata": {},
   "source": [
    "## 2. Write a Python Program to Multiply Two Matrices?"
   ]
  },
  {
   "cell_type": "code",
   "execution_count": 3,
   "id": "629e6c4e",
   "metadata": {},
   "outputs": [
    {
     "name": "stdout",
     "output_type": "stream",
     "text": [
      "[114, 160, 60, 27]\n",
      "[74, 97, 73, 14]\n",
      "[119, 157, 112, 23]\n"
     ]
    }
   ],
   "source": [
    "# take a 3x3 matrix\n",
    "A = [[12, 7, 3], [4, 5, 6], [7, 8, 9]]\n",
    "\n",
    "# take a 3x4 matrix\n",
    "B = [[5, 8, 1, 2], [6, 7, 3, 0], [4, 5, 9, 1]]\n",
    "\n",
    "result = [[0, 0, 0, 0], [0, 0, 0, 0], [0, 0, 0, 0]]\n",
    "\n",
    "# iterate through rows\n",
    "for i in range(len(A)):\n",
    "    for j in range(len(B[0])):\n",
    "        for k in range(len(B)):\n",
    "            result[i][j] += A[i][k] * B[k][j]\n",
    "\n",
    "for r in result:\n",
    "    print(r)\n"
   ]
  },
  {
   "cell_type": "markdown",
   "id": "3bbc0d98",
   "metadata": {},
   "source": [
    "## 3. Write a Python Program to Transpose a Matrix?"
   ]
  },
  {
   "cell_type": "code",
   "execution_count": 4,
   "id": "4fa01116",
   "metadata": {},
   "outputs": [
    {
     "name": "stdout",
     "output_type": "stream",
     "text": [
      "Result matrix is\n",
      "1  2  3  4  \n",
      "2  2  3  4  \n",
      "3  3  3  4  \n",
      "4  4  4  4  \n"
     ]
    }
   ],
   "source": [
    "N = 4\n",
    "\n",
    "# This function stores\n",
    "# transpose of A[][] in B[][]\n",
    "\n",
    "def transpose(A,B):\n",
    "    for i in range(N):\n",
    "        for j in range(N):\n",
    "            B[i][j] = A[j][i]\n",
    "\n",
    "# driver code\n",
    "A = [ [1, 1, 1, 1],[2, 2, 2, 2],[3, 3, 3, 3],[4, 4, 4, 4]]\n",
    "\n",
    "\n",
    "B = A[:][:] # To store result\n",
    "\n",
    "transpose(A, B)\n",
    "\n",
    "print(\"Result matrix is\")\n",
    "for i in range(N):\n",
    "    for j in range(N):\n",
    "        print(B[i][j], \" \", end='')\n",
    "    print()\n"
   ]
  },
  {
   "cell_type": "markdown",
   "id": "5e80f659",
   "metadata": {},
   "source": [
    "## 4.\tWrite a Python Program to Sort Words in Alphabetic Order?"
   ]
  },
  {
   "cell_type": "code",
   "execution_count": 6,
   "id": "b1cefc81",
   "metadata": {},
   "outputs": [
    {
     "name": "stdout",
     "output_type": "stream",
     "text": [
      "brown dog fox jumps lazy over quick the the\n"
     ]
    }
   ],
   "source": [
    "def sort_func(S):\n",
    "    W = S.split(\" \")\n",
    "    for i in range(len(W)):\n",
    "        W[i]=W[i].lower()   # convert all the words into lowercase\n",
    "        S = sorted(W)\n",
    "    print(' '.join(S))\n",
    "\n",
    "# Driver code\n",
    "S = \"the Quick brown fox jumPs over the lazY Dog\"\n",
    "# function call\n",
    "sort_func(S)\n"
   ]
  },
  {
   "cell_type": "markdown",
   "id": "73d45b4b",
   "metadata": {},
   "source": [
    "## 5.\tWrite a Python Program to Remove Punctuation From a String?"
   ]
  },
  {
   "cell_type": "code",
   "execution_count": 8,
   "id": "f6436913",
   "metadata": {},
   "outputs": [
    {
     "name": "stdout",
     "output_type": "stream",
     "text": [
      "The original string is : let's, test : for ! punctuations ;\n",
      "The string after punctuation filter : lets test  for  punctuations \n"
     ]
    }
   ],
   "source": [
    "import re\n",
    "test_str = \"let's, test : for ! punctuations ;\"\n",
    "print(\"The original string is : \" + test_str)\n",
    "res = re.sub(r'[^\\w\\s]', '', test_str)\n",
    "print(\"The string after punctuation filter : \" + res)"
   ]
  }
 ],
 "metadata": {
  "kernelspec": {
   "display_name": "Python 3",
   "language": "python",
   "name": "python3"
  },
  "language_info": {
   "codemirror_mode": {
    "name": "ipython",
    "version": 3
   },
   "file_extension": ".py",
   "mimetype": "text/x-python",
   "name": "python",
   "nbconvert_exporter": "python",
   "pygments_lexer": "ipython3",
   "version": "3.8.8"
  }
 },
 "nbformat": 4,
 "nbformat_minor": 5
}
