{
 "cells": [
  {
   "cell_type": "markdown",
   "metadata": {
    "id": "c1ikZ_iZnunq"
   },
   "source": [
    "## 1.\tWrite a Python program to Extract Unique values dictionary values?\n",
    "\n"
   ]
  },
  {
   "cell_type": "code",
   "execution_count": 1,
   "metadata": {
    "id": "r4F_kNuToRJa"
   },
   "outputs": [
    {
     "name": "stdout",
     "output_type": "stream",
     "text": [
      "The original dictionary is : {'gfg': [5, 6, 7, 8], 'is': [10, 11, 7, 5], 'best': [6, 12, 10, 8], 'for': [1, 2, 5]}\n",
      "The unique values list is : [1, 2, 5, 6, 7, 8, 10, 11, 12]\n"
     ]
    }
   ],
   "source": [
    "# Python3 code to demonstrate working of\n",
    "# Extract Unique values dictionary values\n",
    "# Using set comprehension + values() + sorted()\n",
    "\n",
    "# initializing dictionary\n",
    "test_dict = {'gfg' : [5, 6, 7, 8],\n",
    "            'is' : [10, 11, 7, 5],\n",
    "            'best' : [6, 12, 10, 8],\n",
    "            'for' : [1, 2, 5]}\n",
    "\n",
    "# printing original dictionary\n",
    "print(\"The original dictionary is : \" + str(test_dict))\n",
    "\n",
    "# Extract Unique values dictionary values\n",
    "# Using set comprehension + values() + sorted()\n",
    "res = list(sorted({ele for val in test_dict.values() for ele in val}))\n",
    "\n",
    "# printing result\n",
    "print(\"The unique values list is : \" + str(res))\n"
   ]
  },
  {
   "cell_type": "code",
   "execution_count": 2,
   "metadata": {
    "id": "2oEGPjIPoRyS"
   },
   "outputs": [
    {
     "name": "stdout",
     "output_type": "stream",
     "text": [
      "The original dictionary is : {'gfg': [5, 6, 7, 8], 'is': [10, 11, 7, 5], 'best': [6, 12, 10, 8], 'for': [1, 2, 5]}\n",
      "The unique values list is : [1, 2, 5, 6, 7, 8, 10, 11, 12]\n"
     ]
    }
   ],
   "source": [
    "# Python3 code to demonstrate working of\n",
    "# Extract Unique values dictionary values\n",
    "# Using chain() + sorted() + values()\n",
    "from itertools import chain\n",
    "\n",
    "# initializing dictionary\n",
    "test_dict = {'gfg' : [5, 6, 7, 8],\n",
    "            'is' : [10, 11, 7, 5],\n",
    "            'best' : [6, 12, 10, 8],\n",
    "            'for' : [1, 2, 5]}\n",
    "\n",
    "# printing original dictionary\n",
    "print(\"The original dictionary is : \" + str(test_dict))\n",
    "\n",
    "# Extract Unique values dictionary values\n",
    "# Using chain() + sorted() + values()\n",
    "res = list(sorted(set(chain(*test_dict.values()))))\n",
    "\n",
    "# printing result\n",
    "print(\"The unique values list is : \" + str(res))\n"
   ]
  },
  {
   "cell_type": "markdown",
   "metadata": {
    "id": "WyXfPrnOnxK6"
   },
   "source": [
    "## 2.\tWrite a Python program to find the sum of all items in a dictionary?\n"
   ]
  },
  {
   "cell_type": "code",
   "execution_count": 3,
   "metadata": {
    "id": "xvB2pY59oZCi"
   },
   "outputs": [
    {
     "name": "stdout",
     "output_type": "stream",
     "text": [
      "Sum : 600\n"
     ]
    }
   ],
   "source": [
    "# Python3 Program to find sum of\n",
    "# all items in a Dictionary\n",
    "\n",
    "# Function to print sum\n",
    "\n",
    "\n",
    "def returnSum(myDict):\n",
    "\n",
    "    list = []\n",
    "    for i in myDict:\n",
    "        list.append(myDict[i])\n",
    "    final = sum(list)\n",
    "\n",
    "    return final\n",
    "\n",
    "\n",
    "# Driver Function\n",
    "dict = {'a': 100, 'b': 200, 'c': 300}\n",
    "print(\"Sum :\", returnSum(dict))\n"
   ]
  },
  {
   "cell_type": "code",
   "execution_count": 7,
   "metadata": {},
   "outputs": [
    {
     "data": {
      "text/plain": [
       "600"
      ]
     },
     "execution_count": 7,
     "metadata": {},
     "output_type": "execute_result"
    }
   ],
   "source": [
    "sum(dict.values())"
   ]
  },
  {
   "cell_type": "markdown",
   "metadata": {
    "id": "Q0KiXa58nyri"
   },
   "source": [
    "## 3.\tWrite a Python program to Merging two Dictionaries?\n"
   ]
  },
  {
   "cell_type": "code",
   "execution_count": 8,
   "metadata": {
    "id": "JR3i2e7nod-j"
   },
   "outputs": [
    {
     "name": "stdout",
     "output_type": "stream",
     "text": [
      "None\n",
      "{'d': 6, 'c': 4, 'a': 10, 'b': 8}\n"
     ]
    }
   ],
   "source": [
    "# Python code to merge dict using update() method\n",
    "def Merge(dict1, dict2):\n",
    "    return(dict2.update(dict1))\n",
    "\n",
    "# Driver code\n",
    "dict1 = {'a': 10, 'b': 8}\n",
    "dict2 = {'d': 6, 'c': 4}\n",
    "\n",
    "# This return None\n",
    "print(Merge(dict1, dict2))\n",
    "\n",
    "# changes made in dict2\n",
    "print(dict2)\n"
   ]
  },
  {
   "cell_type": "markdown",
   "metadata": {
    "id": "iR4wQWxpn0OO"
   },
   "source": [
    "## 4.\tWrite a Python program to convert key-values list to flat dictionary?\n"
   ]
  },
  {
   "cell_type": "code",
   "execution_count": 2,
   "metadata": {
    "id": "3qGNFF0noiUb"
   },
   "outputs": [
    {
     "name": "stdout",
     "output_type": "stream",
     "text": [
      "The original dictionary is : {'month': [1, 2, 3], 'name': ['Jan', 'Feb', 'March']}\n",
      "Flattened dictionary : {(1, 'Jan'), (2, 'Feb'), (3, 'March')}\n"
     ]
    }
   ],
   "source": [
    "# Python3 code to demonstrate working of\n",
    "# Convert key-values list to flat dictionary\n",
    "# Using dict() + zip()\n",
    "from itertools import product\n",
    "\n",
    "# initializing dictionary\n",
    "test_dict = {'month' : [1, 2, 3],\n",
    "            'name' : ['Jan', 'Feb', 'March']}\n",
    "\n",
    "# printing original dictionary\n",
    "print(\"The original dictionary is : \" + str(test_dict))\n",
    "\n",
    "# Convert key-values list to flat dictionary\n",
    "# Using dict() + zip()\n",
    "res = set(zip(test_dict['month'], test_dict['name']))\n",
    "\n",
    "# printing result\n",
    "print(\"Flattened dictionary : \" + str(res))\n"
   ]
  },
  {
   "cell_type": "code",
   "execution_count": 1,
   "metadata": {},
   "outputs": [
    {
     "name": "stdout",
     "output_type": "stream",
     "text": [
      "\n",
      "Original dictionary elements:\n",
      "{'Theodore': 19, 'Roxanne': 20, 'Mathew': 21, 'Betty': 20}\n",
      "\n",
      "Create a flat list of all the keys of the said flat dictionary:\n",
      "['Theodore', 'Roxanne', 'Mathew', 'Betty']\n"
     ]
    }
   ],
   "source": [
    "def test(flat_dict):\n",
    "  return list(flat_dict.keys())\n",
    "students = {\n",
    "  'Theodore': 19,\n",
    "  'Roxanne': 20,\n",
    "  'Mathew': 21,\n",
    "  'Betty': 20\n",
    "}\n",
    "\n",
    "print(\"\\nOriginal dictionary elements:\")\n",
    "print(students)\n",
    "print(\"\\nCreate a flat list of all the keys of the said flat dictionary:\")\n",
    "print(test(students))\n"
   ]
  },
  {
   "cell_type": "markdown",
   "metadata": {
    "id": "aAb4onxun1lG"
   },
   "source": [
    "## 5.\tWrite a Python program to insertion at the beginning in OrderedDict?\n"
   ]
  },
  {
   "cell_type": "code",
   "execution_count": 17,
   "metadata": {
    "id": "popCAwTAonZ6"
   },
   "outputs": [
    {
     "data": {
      "text/plain": [
       "OrderedDict([('akshat', '1'), ('nikhil', '2')])"
      ]
     },
     "execution_count": 17,
     "metadata": {},
     "output_type": "execute_result"
    }
   ],
   "source": [
    "# Python code to demonstrate\n",
    "# insertion of items in beginning of ordered dict\n",
    "from collections import OrderedDict\n",
    "\n",
    "# initialising ordered_dict\n",
    "iniordered_dict = OrderedDict([('akshat', '1'), ('nikhil', '2')])\n",
    "iniordered_dict"
   ]
  },
  {
   "cell_type": "code",
   "execution_count": 18,
   "metadata": {},
   "outputs": [
    {
     "data": {
      "text/plain": [
       "OrderedDict([('akshat', '1'), ('nikhil', '2'), ('manjeet', '3')])"
      ]
     },
     "execution_count": 18,
     "metadata": {},
     "output_type": "execute_result"
    }
   ],
   "source": [
    "# inserting items in starting of dict\n",
    "iniordered_dict.update({'manjeet':'3'})\n",
    "iniordered_dict"
   ]
  },
  {
   "cell_type": "code",
   "execution_count": 19,
   "metadata": {},
   "outputs": [
    {
     "name": "stdout",
     "output_type": "stream",
     "text": [
      "Resultant Dictionary : OrderedDict([('manjeet', '3'), ('akshat', '1'), ('nikhil', '2')])\n"
     ]
    }
   ],
   "source": [
    "iniordered_dict.move_to_end('manjeet', last = False)\n",
    "\n",
    "# print result\n",
    "print (\"Resultant Dictionary : \"+str(iniordered_dict))"
   ]
  },
  {
   "cell_type": "markdown",
   "metadata": {
    "id": "C2Rpb_zjn3Dx"
   },
   "source": [
    "## 6.\tWrite a Python program to check order of character in string using OrderedDict()?\n"
   ]
  },
  {
   "cell_type": "code",
   "execution_count": 20,
   "metadata": {
    "id": "C1gkMTA3otLr"
   },
   "outputs": [
    {
     "name": "stdout",
     "output_type": "stream",
     "text": [
      "true\n"
     ]
    }
   ],
   "source": [
    "# Function to check if string follows order of\n",
    "# characters defined by a pattern\n",
    "from collections import OrderedDict\n",
    "\n",
    "def checkOrder(input, pattern):\n",
    "\n",
    "    # create empty OrderedDict\n",
    "    # output will be like {'a': None,'b': None, 'c': None}\n",
    "    dict = OrderedDict.fromkeys(input)\n",
    "\n",
    "    # traverse generated OrderedDict parallel with\n",
    "    # pattern string to check if order of characters\n",
    "    # are same or not\n",
    "    ptrlen = 0\n",
    "    for key,value in dict.items():\n",
    "        if (key == pattern[ptrlen]):\n",
    "            ptrlen = ptrlen + 1\n",
    "        \n",
    "        # check if we have traverse complete\n",
    "        # pattern string\n",
    "        if (ptrlen == (len(pattern))):\n",
    "            return 'true'\n",
    "\n",
    "    # if we come out from for loop that means\n",
    "    # order was mismatched\n",
    "    return 'false'\n",
    "\n",
    "# Driver program\n",
    "if __name__ == \"__main__\":\n",
    "    input = 'engineers rock'\n",
    "    pattern = 'er'\n",
    "    print (checkOrder(input,pattern))\n"
   ]
  },
  {
   "cell_type": "code",
   "execution_count": 21,
   "metadata": {},
   "outputs": [
    {
     "name": "stdout",
     "output_type": "stream",
     "text": [
      "false\n"
     ]
    }
   ],
   "source": [
    "print (checkOrder(input,'ie'))"
   ]
  },
  {
   "cell_type": "code",
   "execution_count": 22,
   "metadata": {},
   "outputs": [
    {
     "name": "stdout",
     "output_type": "stream",
     "text": [
      "true\n"
     ]
    }
   ],
   "source": [
    "print (checkOrder(input,'ro'))"
   ]
  },
  {
   "cell_type": "code",
   "execution_count": 26,
   "metadata": {},
   "outputs": [
    {
     "name": "stdout",
     "output_type": "stream",
     "text": [
      "true\n"
     ]
    }
   ],
   "source": [
    "print (checkOrder(input,'en'))"
   ]
  },
  {
   "cell_type": "markdown",
   "metadata": {
    "id": "MMpX-x2MoHjT"
   },
   "source": [
    "## 7.\tWrite a Python program to sort Python Dictionaries by Key or Value?"
   ]
  },
  {
   "cell_type": "code",
   "execution_count": 31,
   "metadata": {
    "id": "F74KPx1Vo09S"
   },
   "outputs": [
    {
     "name": "stdout",
     "output_type": "stream",
     "text": [
      "Keys are\n",
      "1 2 3 4 5 6 \n",
      "Values are\n",
      "2 12 18 24 56 323 "
     ]
    }
   ],
   "source": [
    "# Function calling\n",
    "def dictionairy():\n",
    "# Declare hash function\n",
    "    key_value ={}\n",
    "\n",
    "# Initializing value\n",
    "    key_value[2] = 56\n",
    "    key_value[1] = 2\n",
    "    key_value[5] = 12\n",
    "    key_value[4] = 24\n",
    "    key_value[6] = 18\n",
    "    key_value[3] = 323\n",
    "\n",
    "    print (\"Keys are\")\n",
    "\n",
    "# iterkeys() returns an iterator over the\n",
    "# dictionary’s keys.\n",
    "    for i in sorted (key_value.keys()) :\n",
    "        print(i, end = \" \")\n",
    "        \n",
    "    print (\"\\nValues are\")\n",
    "\n",
    "# iterkeys() returns an iterator over the\n",
    "# dictionary’s keys.\n",
    "    for i in sorted (key_value.values()) :\n",
    "        print(i, end = \" \")\n",
    "\n",
    "def main():\n",
    "    # function calling\n",
    "    dictionairy()\n",
    "\n",
    "# Main function calling\n",
    "if __name__==\"__main__\":\n",
    "    main()\n"
   ]
  }
 ],
 "metadata": {
  "colab": {
   "authorship_tag": "ABX9TyOP9B/AgYucxztG4Ut7GYMj",
   "collapsed_sections": [],
   "name": "Programming_12.ipynb",
   "provenance": []
  },
  "kernelspec": {
   "display_name": "Python 3",
   "language": "python",
   "name": "python3"
  },
  "language_info": {
   "codemirror_mode": {
    "name": "ipython",
    "version": 3
   },
   "file_extension": ".py",
   "mimetype": "text/x-python",
   "name": "python",
   "nbconvert_exporter": "python",
   "pygments_lexer": "ipython3",
   "version": "3.8.8"
  }
 },
 "nbformat": 4,
 "nbformat_minor": 1
}
