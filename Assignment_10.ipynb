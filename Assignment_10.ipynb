{
 "cells": [
  {
   "cell_type": "markdown",
   "id": "d37a6fc3",
   "metadata": {},
   "source": [
    "## 1. How do you distinguish between shutil.copy() and shutil.copytree()?\n",
    "The shutil.copy() function will copy a single file, while shutil.copytree() will copy an entire folder, along with all its contents."
   ]
  },
  {
   "cell_type": "markdown",
   "id": "06c9afe5",
   "metadata": {},
   "source": [
    "## 2. What function is used to rename files??\n",
    "The shutil.move() function is used for renaming files, as well as moving them"
   ]
  },
  {
   "cell_type": "markdown",
   "id": "177692a7",
   "metadata": {},
   "source": [
    "## 3. What is the difference between the delete functions in the send2trash and shutil modules?\n",
    "The send2trash functions will move a file or folder to the recycle bin, \n",
    "while shutil functions will permanently delete files and folders."
   ]
  },
  {
   "cell_type": "markdown",
   "id": "8dd92397",
   "metadata": {},
   "source": [
    "## 4.ZipFile objects have a close() method just like File objects’ close() method. What ZipFile method is equivalent to File objects’ open() method?\n",
    "The zipfile.ZipFile() function is equivalent to the open() function; the first argument is the filename, and the second argument is the mode to open the ZIP file in (read, write, or append).\n"
   ]
  },
  {
   "cell_type": "markdown",
   "id": "0427ecf0",
   "metadata": {},
   "source": [
    "## 5. Create a programme that searches a folder tree for files with a certain file extension (such as .pdf or .jpg). Copy these files from whatever location they are in to a new folder."
   ]
  },
  {
   "cell_type": "code",
   "execution_count": null,
   "id": "a68bc386",
   "metadata": {},
   "outputs": [],
   "source": [
    "import os\n",
    "os.walk(os.getcwd())"
   ]
  },
  {
   "cell_type": "code",
   "execution_count": 1,
   "id": "951e5b81",
   "metadata": {},
   "outputs": [
    {
     "name": "stdout",
     "output_type": "stream",
     "text": [
      "Enter the absolute path of the source folder: C:\\Users\\Prashanth Chakkula\\Downloads\\Assessments_ineuron\\path\n",
      "Enter the type of file to copy (such as .pdf or .jpg): jpg\n",
      "Enter the absolute path of the destination folder: C:\\Users\\Prashanth Chakkula\\Downloads\\Assessments_ineuron\\\n",
      "C:\\Users\\Prashanth Chakkula\\Downloads\\Assessments_ineuron\\path\\main.jpg\n",
      "C:\\Users\\Prashanth Chakkula\\Downloads\\Assessments_ineuron\\path\\main.jpg\n"
     ]
    }
   ],
   "source": [
    "import os, shutil\n",
    "sourcePath = input('Enter the absolute path of the source folder: ') \n",
    "fileExtType = input('Enter the type of file to copy (such as .pdf or .jpg): ').lower() \n",
    "destPath = input('Enter the absolute path of the destination folder: ')\n",
    "for foldername, subfolders, filenames in os.walk(sourcePath): \n",
    "    for filename in filenames: \n",
    "        if filename.lower().endswith(fileExtType): \n",
    "            print(foldername + '\\\\' + filename) \n",
    "            copySourcePath = os.path.join(foldername, filename) \n",
    "            print(copySourcePath) \n",
    "            shutil.copy(copySourcePath, destPath) \n",
    "        else: \n",
    "            continue"
   ]
  }
 ],
 "metadata": {
  "kernelspec": {
   "display_name": "Python 3",
   "language": "python",
   "name": "python3"
  },
  "language_info": {
   "codemirror_mode": {
    "name": "ipython",
    "version": 3
   },
   "file_extension": ".py",
   "mimetype": "text/x-python",
   "name": "python",
   "nbconvert_exporter": "python",
   "pygments_lexer": "ipython3",
   "version": "3.8.8"
  }
 },
 "nbformat": 4,
 "nbformat_minor": 5
}
