{
 "cells": [
  {
   "cell_type": "markdown",
   "id": "308e3011",
   "metadata": {},
   "source": [
    "## 1. To what does a relative path refer?\n",
    "Relative paths are relative to the current working directory"
   ]
  },
  {
   "cell_type": "code",
   "execution_count": 1,
   "id": "f5e5ef1c",
   "metadata": {},
   "outputs": [
    {
     "name": "stdout",
     "output_type": "stream",
     "text": [
      "C:\\Users\\Prashanth Chakkula\\Downloads\\Assessments_ineuron\n"
     ]
    }
   ],
   "source": [
    "import os\n",
    "print(os.getcwd())"
   ]
  },
  {
   "cell_type": "markdown",
   "id": "7c7a531b",
   "metadata": {},
   "source": [
    "## 2. What does an absolute path start with your operating system?\n",
    "Absolute paths start with the root folder, such as / or C:\\.\n",
    "The example is stated above"
   ]
  },
  {
   "cell_type": "markdown",
   "id": "9622e83a",
   "metadata": {},
   "source": [
    "## 3. What do the functions os.getcwd() and os.chdir() do?\n",
    "The os.getcwd() function returns the current working directory. \n",
    "The os.chdir() function changes the current working directory"
   ]
  },
  {
   "cell_type": "code",
   "execution_count": 2,
   "id": "6cba6a1e",
   "metadata": {},
   "outputs": [
    {
     "name": "stdout",
     "output_type": "stream",
     "text": [
      "None\n"
     ]
    }
   ],
   "source": [
    "print(os.chdir(r\"C:\\Users\"))"
   ]
  },
  {
   "cell_type": "code",
   "execution_count": 3,
   "id": "26f19022",
   "metadata": {},
   "outputs": [
    {
     "name": "stdout",
     "output_type": "stream",
     "text": [
      "C:\\Users\n"
     ]
    }
   ],
   "source": [
    "print(os.getcwd())"
   ]
  },
  {
   "cell_type": "markdown",
   "id": "5288ef4f",
   "metadata": {},
   "source": [
    "## 4. What are the . and .. folders?\n",
    "The . folder is the current folder, and .. is the parent folder"
   ]
  },
  {
   "cell_type": "markdown",
   "id": "3c2e62c0",
   "metadata": {},
   "source": [
    "## 5. In C:\\bacon\\eggs\\spam.txt, which part is the dir name, and which part is the base name?\n",
    "C:\\bacon\\eggs is the dir name, while spam.txt is the base name."
   ]
  },
  {
   "cell_type": "markdown",
   "id": "61c76cbc",
   "metadata": {},
   "source": [
    "## 6. What are the three “mode” arguments that can be passed to the open() function?\n",
    "The string 'r' for read mode, 'w' for write mode, and 'a' for append mode\n"
   ]
  },
  {
   "cell_type": "markdown",
   "id": "1102250e",
   "metadata": {},
   "source": [
    "## 7. What happens if an existing file is opened in write mode?\n",
    "An existing file opened in write mode is erased and completely overwritten"
   ]
  },
  {
   "cell_type": "markdown",
   "id": "505497a5",
   "metadata": {},
   "source": [
    "## 8. How do you tell the difference between read() and readlines()?\n",
    "The read() method returns the file’s entire contents as a single string value. The readlines() method returns a list of strings, where each string is a line from the file’s contents.\n"
   ]
  },
  {
   "cell_type": "markdown",
   "id": "66704630",
   "metadata": {},
   "source": [
    "## 9. What data structure does a shelf value resemble?\n",
    "A shelf value resembles a dictionary value; it has keys and values, along with keys() and values() methods that work similarly to the dictionary methods of the same names"
   ]
  }
 ],
 "metadata": {
  "kernelspec": {
   "display_name": "Python 3",
   "language": "python",
   "name": "python3"
  },
  "language_info": {
   "codemirror_mode": {
    "name": "ipython",
    "version": 3
   },
   "file_extension": ".py",
   "mimetype": "text/x-python",
   "name": "python",
   "nbconvert_exporter": "python",
   "pygments_lexer": "ipython3",
   "version": "3.8.8"
  }
 },
 "nbformat": 4,
 "nbformat_minor": 5
}
