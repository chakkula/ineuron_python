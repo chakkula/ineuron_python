{
 "cells": [
  {
   "cell_type": "markdown",
   "id": "1a319cea",
   "metadata": {},
   "source": [
    "## 1. Write a Python program to check if the given number is a Disarium Number?"
   ]
  },
  {
   "cell_type": "code",
   "execution_count": 1,
   "id": "f3add791",
   "metadata": {},
   "outputs": [
    {
     "name": "stdout",
     "output_type": "stream",
     "text": [
      "Enter the Number to Check Disarium Number = 175\n",
      "The Sum of the Digits =  175\n",
      "175 is a Disarium Number.\n"
     ]
    }
   ],
   "source": [
    "#A disarium number is a number in which the sum of the digits to the power of their respective position is equal to the number itself\n",
    "\n",
    "number = int(input(\"Enter the Number to Check Disarium Number = \"))\n",
    "length = len(str(number))\n",
    "tmp = number\n",
    "sum = 0\n",
    "rem = 0\n",
    "while tmp > 0:\n",
    "    rem = tmp % 10\n",
    "    sum = sum + int(rem**length)\n",
    "    tmp = tmp // 10\n",
    "    length = length - 1\n",
    "print(\"The Sum of the Digits = \",sum)\n",
    "if sum == number:\n",
    "    print(\"{0} is a Disarium Number.\".format(number))\n",
    "else:\n",
    "    print(\"{0} is Not a Disarium Number.\".format(number))\n"
   ]
  },
  {
   "cell_type": "markdown",
   "id": "21d02e3b",
   "metadata": {},
   "source": [
    "## 2.\tWrite a Python program to print all disarium numbers between 1 to 100?"
   ]
  },
  {
   "cell_type": "code",
   "execution_count": 15,
   "id": "2b4fdc4c",
   "metadata": {},
   "outputs": [
    {
     "name": "stdout",
     "output_type": "stream",
     "text": [
      "Disarium numbers between 1 and 100 are\n",
      "1\n",
      "2\n",
      "3\n",
      "4\n",
      "5\n",
      "6\n",
      "7\n",
      "8\n",
      "9\n",
      "89\n"
     ]
    }
   ],
   "source": [
    "#calculateLength() will count the digits present in a number  \n",
    "def calculateLength(n):  \n",
    "    length = 0 \n",
    "    while(n != 0):  \n",
    "        length = length + 1\n",
    "        n = n//10\n",
    "    return length\n",
    "   \n",
    "#sumOfDigits() will calculates the sum of digits powered with their respective position  \n",
    "def sumOfDigits(num):  \n",
    "    rem = 0\n",
    "    sum = 0\n",
    "    len = calculateLength(num)\n",
    "    \n",
    "    while(num > 0):  \n",
    "        rem = num%10\n",
    "        sum = sum + (rem**len)\n",
    "        num = num//10\n",
    "        len = len - 1\n",
    "    return sum \n",
    "    \n",
    "result = 0 \n",
    "   \n",
    "#Displays all disarium numbers between 1 and 100  \n",
    "print(\"Disarium numbers between 1 and 100 are\")\n",
    "for i in range(1, 101):\n",
    "    result = sumOfDigits(i)\n",
    "    if(result == i):\n",
    "        print(i)\n"
   ]
  },
  {
   "cell_type": "markdown",
   "id": "ac9d9d36",
   "metadata": {},
   "source": [
    "## 3. Write a Python program to check if the given number is Happy Number?"
   ]
  },
  {
   "cell_type": "code",
   "execution_count": 17,
   "id": "2d5bb102",
   "metadata": {},
   "outputs": [
    {
     "name": "stdout",
     "output_type": "stream",
     "text": [
      "The number is being checked\n",
      "86 is a happy number\n"
     ]
    }
   ],
   "source": [
    "#a happy number is a number which eventually reaches 1 when replaced by the sum of the square of each digit.\n",
    "def check_happy_num(my_num):\n",
    "   remaining = sum_val = 0\n",
    "   while(my_num > 0):\n",
    "      remaining = my_num%10\n",
    "      sum_val = sum_val + (remaining*remaining)\n",
    "      my_num = my_num//10\n",
    "   return sum_val;\n",
    "my_num = 86\n",
    "my_result = my_num\n",
    "while(my_result != 1 and my_result != 4):\n",
    "   my_result = check_happy_num(my_result);\n",
    "print(\"The number is being checked\")\n",
    "if(my_result == 1):\n",
    "   print(str(my_num) + \" is a happy number\");\n",
    "elif(my_result == 4):\n",
    "   print(str(my_num) + \" isn't a happy number\");"
   ]
  },
  {
   "cell_type": "markdown",
   "id": "60cf27aa",
   "metadata": {},
   "source": [
    "## 4. Write a Python program to print all happy numbers between 1 and 100?"
   ]
  },
  {
   "cell_type": "code",
   "execution_count": 19,
   "id": "2a7c866e",
   "metadata": {},
   "outputs": [
    {
     "name": "stdout",
     "output_type": "stream",
     "text": [
      "List of happy numbers between 1 and 100: \n",
      "1\n",
      "7\n",
      "10\n",
      "13\n",
      "19\n",
      "23\n",
      "28\n",
      "31\n",
      "32\n",
      "44\n",
      "49\n",
      "68\n",
      "70\n",
      "79\n",
      "82\n",
      "86\n",
      "91\n",
      "94\n",
      "97\n",
      "100\n"
     ]
    }
   ],
   "source": [
    "def isHappyNumber(num):  \n",
    "    rem = 0\n",
    "    sum = 0\n",
    "      \n",
    "    #Calculates the sum of squares of digits  \n",
    "    while(num > 0):  \n",
    "        rem = num%10 \n",
    "        sum = sum + (rem*rem)\n",
    "        num = num//10\n",
    "    return sum \n",
    "          \n",
    "#Displays all happy numbers between 1 and 100  \n",
    "print(\"List of happy numbers between 1 and 100: \")\n",
    "for i in range(1, 101):  \n",
    "    result = i\n",
    "      \n",
    "    #Happy number always ends with 1 and   \n",
    "    #unhappy number ends in a cycle of repeating numbers which contains 4  \n",
    "    while(result != 1 and result != 4):  \n",
    "        result = isHappyNumber(result)\n",
    "      \n",
    "    if(result == 1):  \n",
    "        print(i)\n"
   ]
  },
  {
   "cell_type": "markdown",
   "id": "111c9d83",
   "metadata": {},
   "source": [
    "## 5. Write a Python program to determine whether the given number is a Harshad Number?"
   ]
  },
  {
   "cell_type": "code",
   "execution_count": 22,
   "id": "c26ec398",
   "metadata": {},
   "outputs": [
    {
     "name": "stdout",
     "output_type": "stream",
     "text": [
      "156 is a harshad number\n"
     ]
    }
   ],
   "source": [
    "num = 156 \n",
    "rem=0\n",
    "sum = 0  \n",
    "    \n",
    "#Make a copy of num and store it in variable n    \n",
    "n = num \n",
    "     \n",
    "#Calculates sum of digits    \n",
    "while(num > 0):    \n",
    "    rem = num%10 \n",
    "    sum = sum + rem \n",
    "    num = num//10\n",
    "     \n",
    "#Checks whether the number is divisible by the sum of digits    \n",
    "if(n%sum == 0):    \n",
    "    print(str(n) + \" is a harshad number\") \n",
    "else:    \n",
    "    print(str(n) + \" is not a harshad number\")\n"
   ]
  },
  {
   "cell_type": "markdown",
   "id": "592d74d7",
   "metadata": {},
   "source": [
    "## 6.\tWrite a Python program to print all pronic numbers between 1 and 100?"
   ]
  },
  {
   "cell_type": "code",
   "execution_count": 24,
   "id": "01841c3f",
   "metadata": {},
   "outputs": [
    {
     "name": "stdout",
     "output_type": "stream",
     "text": [
      "Pronic numbers between 1 and 100: \n",
      "2\n",
      "6\n",
      "12\n",
      "20\n",
      "30\n",
      "42\n",
      "56\n",
      "72\n",
      "90\n"
     ]
    }
   ],
   "source": [
    "#A pronic number is a number which is the product of two consecutive integers, that is, a number of the form n (n + 1)\n",
    "\n",
    "def isPronicNumber(num):\n",
    "    flag = False\n",
    "    \n",
    "    for j in range(1, num+1):\n",
    "        #Checks for pronic number by multiplying consecutive numbers\n",
    "        if((j*(j+1)) == num):\n",
    "            flag = True\n",
    "            break\n",
    "    return flag\n",
    " \n",
    "#Displays pronic numbers between 1 and 100\n",
    "print(\"Pronic numbers between 1 and 100: \")\n",
    "for i in range(1, 101):\n",
    "    if(isPronicNumber(i)):\n",
    "        print(i)\n"
   ]
  }
 ],
 "metadata": {
  "kernelspec": {
   "display_name": "Python 3",
   "language": "python",
   "name": "python3"
  },
  "language_info": {
   "codemirror_mode": {
    "name": "ipython",
    "version": 3
   },
   "file_extension": ".py",
   "mimetype": "text/x-python",
   "name": "python",
   "nbconvert_exporter": "python",
   "pygments_lexer": "ipython3",
   "version": "3.8.8"
  }
 },
 "nbformat": 4,
 "nbformat_minor": 5
}
