{
  "nbformat": 4,
  "nbformat_minor": 0,
  "metadata": {
    "colab": {
      "name": "Assignment_2.ipynb",
      "provenance": [],
      "collapsed_sections": []
    },
    "kernelspec": {
      "name": "python3",
      "display_name": "Python 3"
    },
    "language_info": {
      "name": "python"
    }
  },
  "cells": [
    {
      "cell_type": "markdown",
      "source": [
        "In this module we are going to solve basics python assignment. The question and answers are inline and added code wherever necessary"
      ],
      "metadata": {
        "id": "jXBOGXChYEWu"
      }
    },
    {
      "cell_type": "markdown",
      "source": [
        "## 1.What are the two values of the Boolean data type? How do you write them?"
      ],
      "metadata": {
        "id": "mlywer50Ydqd"
      }
    },
    {
      "cell_type": "markdown",
      "source": [
        "The Python Boolean type has only two possible values: **True. False**. using capital T and F, with the rest of the word in lowercase."
      ],
      "metadata": {
        "id": "zQPET5S_bWlX"
      }
    },
    {
      "cell_type": "markdown",
      "source": [
        "## 2. What are the three different types of Boolean operators?"
      ],
      "metadata": {
        "id": "bp3iGjonYmom"
      }
    },
    {
      "cell_type": "markdown",
      "source": [
        "There are three logical operators that are used to compare values. They evaluate expressions down to Boolean values, returning either True or False. These operators are **and, or, and not** and are defined in the table below. "
      ],
      "metadata": {
        "id": "W0WwO3qLd8s_"
      }
    },
    {
      "cell_type": "markdown",
      "source": [
        "## 3. Make a list of each Boolean operator's truth tables (i.e. every possible combination of Boolean values for the operator and what it evaluate )."
      ],
      "metadata": {
        "id": "OhZ5m6bzfAFV"
      }
    },
    {
      "cell_type": "markdown",
      "source": [
        "\n",
        "**and**\tTrue if both are true\tx and y\n",
        "\n",
        "**or**\tTrue if at least one is true\tx or y\n",
        "\n",
        "**not**\tTrue only if false\tnot x\n"
      ],
      "metadata": {
        "id": "rJVv5w4PtUup"
      }
    },
    {
      "cell_type": "code",
      "source": [
        "print(\"AND operator truth table: True if both are true x and y\")\n",
        "print(\"True and True: \", True and True)\n",
        "print(\"True and False: \", True and False)\n",
        "print(\"False and True: \", False and True)\n",
        "print(\"False and False: \", False and False)"
      ],
      "metadata": {
        "colab": {
          "base_uri": "https://localhost:8080/"
        },
        "id": "QrH0r-c0tf0L",
        "outputId": "319bd1a0-653b-442e-c943-3f54366fc3b1"
      },
      "execution_count": 5,
      "outputs": [
        {
          "output_type": "stream",
          "name": "stdout",
          "text": [
            "and operator truth table: True if both are true x and y\n",
            "True and True:  True\n",
            "True and False:  False\n",
            "False and True:  False\n",
            "False and False:  False\n"
          ]
        }
      ]
    },
    {
      "cell_type": "code",
      "source": [
        "print(\"OR operator truth table: True if at least one is true x or y\")\n",
        "print(\"True or True: \", True or True)\n",
        "print(\"True or False: \", True or False)\n",
        "print(\"False or True: \", False or True)\n",
        "print(\"False or False: \", False or False)"
      ],
      "metadata": {
        "colab": {
          "base_uri": "https://localhost:8080/"
        },
        "id": "Xu0TLJ-3uWTh",
        "outputId": "9e6f8efd-1770-4853-d72a-ae95bc52ffc2"
      },
      "execution_count": 6,
      "outputs": [
        {
          "output_type": "stream",
          "name": "stdout",
          "text": [
            "OR operator truth table: True if at least one is true x or y\n",
            "True or True:  True\n",
            "True or False:  True\n",
            "False or True:  True\n",
            "False or False:  False\n"
          ]
        }
      ]
    },
    {
      "cell_type": "code",
      "source": [
        "print(\"NOT operator truth table: True only if false not x\")\n",
        "print(\"not True: \", not True)\n",
        "print(\"not False: \", not False)"
      ],
      "metadata": {
        "colab": {
          "base_uri": "https://localhost:8080/"
        },
        "id": "Erl6RjlIxXRJ",
        "outputId": "9f6d4037-9ae1-49e6-f36d-45cbf5c1d4e1"
      },
      "execution_count": 10,
      "outputs": [
        {
          "output_type": "stream",
          "name": "stdout",
          "text": [
            "NOT operator truth table: True only if false not x\n",
            "not True:  False\n",
            "not False:  True\n"
          ]
        }
      ]
    },
    {
      "cell_type": "markdown",
      "source": [
        "## 4. What are the values of the following expressions?"
      ],
      "metadata": {
        "id": "1-sMAjHdwJbA"
      }
    },
    {
      "cell_type": "code",
      "source": [
        "print('(5 > 4) and (3 == 5) : ', (5 > 4) and (3 == 5) )\n",
        "print('not (5 > 4) : ',not (5 > 4) )\n",
        "print('(5 > 4) or (3 == 5): ', (5 > 4) or (3 == 5))\n",
        "print('not ((5 > 4) or (3 == 5)): ', not ((5 > 4) or (3 == 5)))\n",
        "print('(True and True) and (True == False): ', (True and True) and (True == False))\n",
        "print('(not False) or (not True): ', (not False) or (not True))"
      ],
      "metadata": {
        "colab": {
          "base_uri": "https://localhost:8080/"
        },
        "id": "gcD6ymvlxlYA",
        "outputId": "a33c2708-1359-4ea4-a2d3-95cf0a68becd"
      },
      "execution_count": 11,
      "outputs": [
        {
          "output_type": "stream",
          "name": "stdout",
          "text": [
            "(5 > 4) and (3 == 5) :  False\n",
            "not (5 > 4) :  False\n",
            "(5 > 4) or (3 == 5):  True\n",
            "not ((5 > 4) or (3 == 5)):  False\n",
            "(True and True) and (True == False):  False\n",
            "(not False) or (not True):  True\n"
          ]
        }
      ]
    },
    {
      "cell_type": "markdown",
      "source": [
        "## 5. What are the six comparison operators?\n",
        "Python has six comparison operators, which are as follows:\n",
        "1.\tLess than ( < )\n",
        "2.\tLess than or equal to ( <= )\n",
        "3.  Greater than ( > )\n",
        "4. \tGreater than or equal to ( >= )\n",
        "5.  Equal to ( == )\n",
        "6.  Not equal to ( != )\n"
      ],
      "metadata": {
        "id": "ZMbuVyf-kO3t"
      }
    },
    {
      "cell_type": "markdown",
      "source": [
        "## 6. How do you tell the difference between the equal to and assignment operators?Describe a condition and when you would use one.\n"
      ],
      "metadata": {
        "id": "HYOBf4KJkWwX"
      }
    },
    {
      "cell_type": "markdown",
      "source": [
        "The **“=”** is an **assignment operator** is used to assign the value on the right to the variable on the left. \n",
        "\n",
        "The **'=='** operator checks whether the two given operands are **equal** or not. If so, it returns **true**. **Otherwise** it returns **false**."
      ],
      "metadata": {
        "id": "aO4JUTs2yS_I"
      }
    },
    {
      "cell_type": "markdown",
      "source": [
        "A **condition** is an expression used in a flow control statement that evaluates to a Boolean value."
      ],
      "metadata": {
        "id": "Qy1hP6KS0bUg"
      }
    },
    {
      "cell_type": "markdown",
      "source": [
        "## 7. Identify the three blocks in this code:"
      ],
      "metadata": {
        "id": "gbzjgtRtkaKa"
      }
    },
    {
      "cell_type": "code",
      "source": [
        "#The three blocks are everything inside the if statement\n",
        "spam = 0\n",
        "if spam == 10:\n",
        " print('eggs') #Block A\n",
        " if spam > 5:  #Block A\n",
        "  print('bacon')       #Block B\n",
        " else:         #Block A\n",
        "  print('ham')         #Block C \n",
        " print('spam')\n",
        "print('spam')"
      ],
      "metadata": {
        "colab": {
          "base_uri": "https://localhost:8080/"
        },
        "id": "8swuQKffmDUC",
        "outputId": "e41d25e8-e9d0-4c3a-8af2-4b94247d46ee"
      },
      "execution_count": 12,
      "outputs": [
        {
          "output_type": "stream",
          "name": "stdout",
          "text": [
            "spam\n"
          ]
        }
      ]
    },
    {
      "cell_type": "markdown",
      "source": [
        "## 8. Write code that prints Hello if 1 is stored in spam, prints Howdy if 2 is stored in spam, and prints Greetings! if anything else is stored in spam."
      ],
      "metadata": {
        "id": "1XmuYOAbkdeT"
      }
    },
    {
      "cell_type": "code",
      "source": [
        "if spam == 1:\n",
        " print('Hello') #Block A\n",
        "elif spam == 2: #Block A\n",
        "  print('Howdy')       #Block B\n",
        "else:         #Block A\n",
        "  print('Greetings!')  #Block C "
      ],
      "metadata": {
        "colab": {
          "base_uri": "https://localhost:8080/"
        },
        "id": "IU2d725unK8q",
        "outputId": "c0c6c5db-1188-4210-f346-9debc7cbd8f3"
      },
      "execution_count": 13,
      "outputs": [
        {
          "output_type": "stream",
          "name": "stdout",
          "text": [
            "Greetings!\n"
          ]
        }
      ]
    },
    {
      "cell_type": "markdown",
      "source": [
        "## 9.If your programme is stuck in an endless loop, what keys you’ll press?\n",
        "You can stop an infinite loop with CTRL + C "
      ],
      "metadata": {
        "id": "1Ezq5WCNkh-p"
      }
    },
    {
      "cell_type": "markdown",
      "source": [
        "## 10. How can you tell the difference between break and continue?\n",
        "The main difference between both the statements is that when break keyword comes, it terminates the execution of the current loop and passes the control over the next loop or main body, whereas when continue keyword is encountered, it skips the current iteration and executes the very next iteration in the loop."
      ],
      "metadata": {
        "id": "0KcZvvp-kk5F"
      }
    },
    {
      "cell_type": "markdown",
      "source": [
        "## 11. In a for loop, what is the difference between range(10), range(0, 10), and range(0, 10, 1)?"
      ],
      "metadata": {
        "id": "pp3ty4e60_FX"
      }
    },
    {
      "cell_type": "markdown",
      "source": [
        "They all do the same thing. The range(10) call ranges from 0 up to (but not including) 10, range(0,10) explicitly tells the loop to start at 0 , and range (0,10,1) explicitly tells the loop to increase the variable by 1 on each iteration."
      ],
      "metadata": {
        "id": "BuW8kSkp1Ake"
      }
    },
    {
      "cell_type": "code",
      "source": [
        "print(range(10))\n",
        "print(range(0,10))\n",
        "print(range(0,10,1))"
      ],
      "metadata": {
        "colab": {
          "base_uri": "https://localhost:8080/"
        },
        "id": "3WgXe0nB1Dvf",
        "outputId": "e0444aea-70ec-4b6f-d615-d1510e8860a4"
      },
      "execution_count": 14,
      "outputs": [
        {
          "output_type": "stream",
          "name": "stdout",
          "text": [
            "range(0, 10)\n",
            "range(0, 10)\n",
            "range(0, 10)\n"
          ]
        }
      ]
    },
    {
      "cell_type": "markdown",
      "source": [
        "## 12. Write a short program that prints the numbers 1 to 10 using a for loop. Then write an equivalent program that prints the numbers 1 to 10 using a while loop."
      ],
      "metadata": {
        "id": "m9ZDK3CC1ODY"
      }
    },
    {
      "cell_type": "code",
      "source": [
        "for i in range(1,11):\n",
        "  print(i)"
      ],
      "metadata": {
        "colab": {
          "base_uri": "https://localhost:8080/"
        },
        "id": "nMRUSoln1TED",
        "outputId": "9cdc4cf9-7321-4e5a-871c-1b62add35319"
      },
      "execution_count": 15,
      "outputs": [
        {
          "output_type": "stream",
          "name": "stdout",
          "text": [
            "1\n",
            "2\n",
            "3\n",
            "4\n",
            "5\n",
            "6\n",
            "7\n",
            "8\n",
            "9\n",
            "10\n"
          ]
        }
      ]
    },
    {
      "cell_type": "code",
      "source": [
        "i=1\n",
        "while i<=10:\n",
        "  print(i)\n",
        "  i += 1"
      ],
      "metadata": {
        "colab": {
          "base_uri": "https://localhost:8080/"
        },
        "id": "YrneFRZB1sm_",
        "outputId": "7c7434ca-b5e7-4be6-d77b-606b2c440aa6"
      },
      "execution_count": 17,
      "outputs": [
        {
          "output_type": "stream",
          "name": "stdout",
          "text": [
            "1\n",
            "2\n",
            "3\n",
            "4\n",
            "5\n",
            "6\n",
            "7\n",
            "8\n",
            "9\n",
            "10\n"
          ]
        }
      ]
    },
    {
      "cell_type": "markdown",
      "source": [
        "## 13. If you had a function named bacon() inside a module named spam, how would you call it after importing spam?\n",
        "using a dot operator\n",
        "\n",
        "**spam.bacon()**"
      ],
      "metadata": {
        "id": "d3KEWJPd10sj"
      }
    }
  ]
}