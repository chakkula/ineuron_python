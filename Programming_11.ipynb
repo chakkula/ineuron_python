{
 "cells": [
  {
   "cell_type": "markdown",
   "metadata": {
    "id": "sUI_3fxOhLd8"
   },
   "source": [
    "## 1.\tWrite a Python program to find words which are greater than given length k?\n"
   ]
  },
  {
   "cell_type": "code",
   "execution_count": 1,
   "metadata": {
    "colab": {
     "base_uri": "https://localhost:8080/"
    },
    "executionInfo": {
     "elapsed": 187,
     "status": "ok",
     "timestamp": 1655903283227,
     "user": {
      "displayName": "Chakkula Prashanth",
      "userId": "13880734390245795811"
     },
     "user_tz": -120
    },
    "id": "3QqINYW5hBdH",
    "outputId": "80c652b9-7261-4837-c436-29f89517a53a"
   },
   "outputs": [
    {
     "name": "stdout",
     "output_type": "stream",
     "text": [
      "['Shall', 'check', 'example', 'works?']\n"
     ]
    }
   ],
   "source": [
    "# Python program to find all string which are greater than given length k\n",
    "\n",
    "def get_restricted_length(k, str):\n",
    "    string = []\n",
    "    text = str.split(\" \")\n",
    "    for x in text:\n",
    "        if len(x) > k:\n",
    "            string.append(x)\n",
    "    return string\n",
    "\n",
    "k = 4\n",
    "in_string =\"Shall we check if this example works?\"\n",
    "print(get_restricted_length(k, in_string))\n"
   ]
  },
  {
   "cell_type": "code",
   "execution_count": 3,
   "metadata": {
    "colab": {
     "base_uri": "https://localhost:8080/"
    },
    "executionInfo": {
     "elapsed": 192,
     "status": "ok",
     "timestamp": 1655903335012,
     "user": {
      "displayName": "Chakkula Prashanth",
      "userId": "13880734390245795811"
     },
     "user_tz": -120
    },
    "id": "8JJVop_YhwKS",
    "outputId": "8d0f4725-5d12-4b92-bd74-048520212332"
   },
   "outputs": [
    {
     "name": "stdout",
     "output_type": "stream",
     "text": [
      "['Hello', 'testing', 'phase']\n"
     ]
    }
   ],
   "source": [
    "print(get_restricted_length(4, \"Hello this is a testing phase\"))"
   ]
  },
  {
   "cell_type": "markdown",
   "metadata": {
    "id": "PvB8k4byiabk"
   },
   "source": [
    "## 2.\tWrite a Python program for removing i-th character from a string?"
   ]
  },
  {
   "cell_type": "code",
   "execution_count": 4,
   "metadata": {
    "id": "lRr7BR6TjiHz"
   },
   "outputs": [
    {
     "name": "stdout",
     "output_type": "stream",
     "text": [
      "The original string is : letsremovesomecharacters\n",
      "The string after removal of i'th character : lesremovesomecharacters\n"
     ]
    }
   ],
   "source": [
    "# Python code to demonstrate\n",
    "# method to remove i'th character\n",
    "# using join() + list comprehension\n",
    "\n",
    "# Initializing String\n",
    "test_str = \"letsremovesomecharacters\"\n",
    "\n",
    "# Printing original string\n",
    "print (\"The original string is : \" + test_str)\n",
    "\n",
    "# Removing char at pos 3\n",
    "# using join() + list comprehension\n",
    "new_str = ''.join([test_str[i] for i in range(len(test_str)) if i != 2])\n",
    "\n",
    "# Printing string after removal\n",
    "# removes ele. at 3rd index\n",
    "print (\"The string after removal of i'th character : \" + new_str)"
   ]
  },
  {
   "cell_type": "markdown",
   "metadata": {
    "id": "p33FA1g7idT5"
   },
   "source": [
    "## 3.\tWrite a Python program to split and join a string?\n"
   ]
  },
  {
   "cell_type": "code",
   "execution_count": 6,
   "metadata": {
    "id": "9DAaCTidkCbS"
   },
   "outputs": [
    {
     "name": "stdout",
     "output_type": "stream",
     "text": [
      "split and join test\n",
      "['split', 'and', 'join', 'test']\n",
      "split-and-join-test\n"
     ]
    }
   ],
   "source": [
    "# Python program to split a string and\n",
    "# join it using different delimiter\n",
    "\n",
    "def split_string(string):\n",
    "\n",
    "    # Split the string based on space delimiter\n",
    "    list_string = string.split(' ')\n",
    "    \n",
    "    return list_string\n",
    "\n",
    "def join_string(list_string):\n",
    "\n",
    "    # Join the string based on '-' delimiter\n",
    "    string = '-'.join(list_string)\n",
    "    \n",
    "    return string\n",
    "\n",
    "# Driver Function\n",
    "if __name__ == '__main__':\n",
    "    string = 'split and join test'\n",
    "    \n",
    "    print(string)\n",
    "    \n",
    "    # Splitting a string\n",
    "    list_string = split_string(string)\n",
    "    print(list_string)\n",
    "\n",
    "    # Join list of strings into one\n",
    "    new_string = join_string(list_string)\n",
    "    print(new_string)\n"
   ]
  },
  {
   "cell_type": "markdown",
   "metadata": {
    "id": "lTZmKgSbkFwJ"
   },
   "source": [
    "## 4.\tWrite a Python to check if a given string is binary string or not?\n"
   ]
  },
  {
   "cell_type": "code",
   "execution_count": 10,
   "metadata": {},
   "outputs": [],
   "source": [
    "def check_for_binary(check_string):\n",
    "    get_compile = re.compile('[^01]')\n",
    "    print(get_compile.findall(check_string))\n",
    "    \n",
    "    # use findall() to get the list of strings\n",
    "    # that have characters other than 0 and 1.\n",
    "    if(len(c.findall(sampleInput1))):\n",
    "        print(\"No\") # if length of list > 0 then it is not binary\n",
    "    else:\n",
    "        print(\"Yes\") # if length of list = 0 then it is binary\n",
    "    "
   ]
  },
  {
   "cell_type": "code",
   "execution_count": 11,
   "metadata": {},
   "outputs": [
    {
     "name": "stdout",
     "output_type": "stream",
     "text": [
      "[]\n",
      "No\n"
     ]
    }
   ],
   "source": [
    "check_for_binary(\"1001010\")"
   ]
  },
  {
   "cell_type": "code",
   "execution_count": 12,
   "metadata": {},
   "outputs": [
    {
     "name": "stdout",
     "output_type": "stream",
     "text": [
      "['5']\n",
      "No\n"
     ]
    }
   ],
   "source": [
    "check_for_binary(\"1001050\")"
   ]
  },
  {
   "cell_type": "markdown",
   "metadata": {
    "id": "Nq8v1UvfkX8s"
   },
   "source": [
    "## 5.\tWrite a Python program to find uncommon words from two Strings?\n"
   ]
  },
  {
   "cell_type": "code",
   "execution_count": 13,
   "metadata": {
    "id": "_1x7OHMCnQT0"
   },
   "outputs": [
    {
     "name": "stdout",
     "output_type": "stream",
     "text": [
      "['There', 'is', 'no', 'end', 'for', 'learning', 'Learning', 'never', 'ends']\n"
     ]
    }
   ],
   "source": [
    "# Python3 program to find a list of uncommon words\n",
    "\n",
    "# Function to return all uncommon words\n",
    "def UncommonWords(A, B):\n",
    "\n",
    "    # count will contain all the word counts\n",
    "    count = {}\n",
    "\n",
    "    # insert words of string A to hash\n",
    "    for word in A.split():\n",
    "        count[word] = count.get(word, 0) + 1\n",
    "\n",
    "    # insert words of string B to hash\n",
    "    for word in B.split():\n",
    "        count[word] = count.get(word, 0) + 1\n",
    "\n",
    "    # return required list of words\n",
    "    return [word for word in count if count[word] == 1]\n",
    "\n",
    "# Driver Code\n",
    "A = \"There is no end for learning\" \n",
    "B = \"Learning never ends\"\n",
    "\n",
    "# Print required answer\n",
    "print(UncommonWords(A, B))\n"
   ]
  },
  {
   "cell_type": "code",
   "execution_count": 14,
   "metadata": {},
   "outputs": [
    {
     "name": "stdout",
     "output_type": "stream",
     "text": [
      "['There', 'is', 'no', 'end', 'for', 'never', 'ends']\n"
     ]
    }
   ],
   "source": [
    "A = \"There is no end for Learning\" \n",
    "B = \"Learning never ends\"\n",
    "print(UncommonWords(A, B))"
   ]
  },
  {
   "cell_type": "markdown",
   "metadata": {
    "id": "zrAlm7iXkZ9y"
   },
   "source": [
    "## 6.\tWrite a Python to find all duplicate characters in string?\n"
   ]
  },
  {
   "cell_type": "code",
   "execution_count": 15,
   "metadata": {
    "id": "0Jk27wUJnZPx"
   },
   "outputs": [
    {
     "name": "stdout",
     "output_type": "stream",
     "text": [
      "Counter({'r': 2, 'g': 2, 'm': 2, '1': 2, 'p': 1, 'o': 1, 'a': 1, 'i': 1, 'n': 1})\n",
      "r\n",
      "g\n",
      "m\n",
      "1\n"
     ]
    }
   ],
   "source": [
    "from collections import Counter\n",
    "\n",
    "\n",
    "def find_dup_char(input):\n",
    "\n",
    "    # now create dictionary using counter method\n",
    "    # which will have strings as key and their\n",
    "    # frequencies as value\n",
    "    WC = Counter(input)\n",
    "    print(WC)\n",
    "\n",
    "    # Finding no. of occurrence of a character\n",
    "    # and get the index of it.\n",
    "    for letter, count in WC.items():\n",
    "        if (count > 1):\n",
    "            print(letter)\n",
    "\n",
    "\n",
    "# Driver program\n",
    "if __name__ == \"__main__\":\n",
    "    input = 'programming11'\n",
    "    find_dup_char(input)\n"
   ]
  },
  {
   "cell_type": "code",
   "execution_count": 16,
   "metadata": {},
   "outputs": [
    {
     "name": "stdout",
     "output_type": "stream",
     "text": [
      "Counter({'s': 4, 'm': 3, 'r': 3, 'e': 2, 'n': 2, 'o': 2, 'g': 2, 'A': 1, 't': 1, 'f': 1, 'p': 1, 'a': 1, 'i': 1})\n",
      "s\n",
      "e\n",
      "m\n",
      "n\n",
      "o\n",
      "r\n",
      "g\n"
     ]
    }
   ],
   "source": [
    "input = 'Assessmentforprogramming'\n",
    "find_dup_char(input)"
   ]
  },
  {
   "cell_type": "markdown",
   "metadata": {
    "id": "RBRpA5T6kbyD"
   },
   "source": [
    "## 7.\tWrite a Python Program to check if a string contains any special character?"
   ]
  },
  {
   "cell_type": "code",
   "execution_count": 17,
   "metadata": {
    "id": "M5QDwUL_niP7"
   },
   "outputs": [
    {
     "name": "stdout",
     "output_type": "stream",
     "text": [
      "String is not accepted.\n"
     ]
    }
   ],
   "source": [
    "# Python3 program to check if a string\n",
    "# contains any special character\n",
    "\n",
    "# import required package\n",
    "import re\n",
    "\n",
    "# Function checks if the string\n",
    "# contains any special character\n",
    "def run(string):\n",
    "\n",
    "    # Make own character set and pass\n",
    "    # this as argument in compile method\n",
    "    regex = re.compile('[@_!#$%^&*()<>?/\\|}{~:]')\n",
    "\n",
    "    # Pass the string in search\n",
    "    # method of regex object.\n",
    "    if(regex.search(string) == None):\n",
    "        print(\"String is accepted\")\n",
    "\n",
    "    else:\n",
    "        print(\"String is not accepted.\")\n",
    "\n",
    "\n",
    "# Driver Code\n",
    "if __name__ == '__main__' :\n",
    "\n",
    "    # Enter the string\n",
    "    string = \"learn$For$le@rn\"\n",
    "\n",
    "    # calling run function\n",
    "    run(string)"
   ]
  },
  {
   "cell_type": "code",
   "execution_count": 18,
   "metadata": {},
   "outputs": [
    {
     "name": "stdout",
     "output_type": "stream",
     "text": [
      "String is accepted\n"
     ]
    }
   ],
   "source": [
    "run(\"This is a test\")"
   ]
  }
 ],
 "metadata": {
  "colab": {
   "authorship_tag": "ABX9TyNTfALpxjL9VFPKq4V93ek6",
   "collapsed_sections": [],
   "name": "Programming_11.ipynb",
   "provenance": []
  },
  "kernelspec": {
   "display_name": "Python 3",
   "language": "python",
   "name": "python3"
  },
  "language_info": {
   "codemirror_mode": {
    "name": "ipython",
    "version": 3
   },
   "file_extension": ".py",
   "mimetype": "text/x-python",
   "name": "python",
   "nbconvert_exporter": "python",
   "pygments_lexer": "ipython3",
   "version": "3.8.8"
  }
 },
 "nbformat": 4,
 "nbformat_minor": 1
}
