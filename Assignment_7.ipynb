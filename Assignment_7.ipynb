{
 "cells": [
  {
   "cell_type": "markdown",
   "id": "8d691259",
   "metadata": {},
   "source": [
    "## Assignment 7"
   ]
  },
  {
   "cell_type": "code",
   "execution_count": 1,
   "id": "583019cc",
   "metadata": {},
   "outputs": [],
   "source": [
    "import re\n",
    "str1 = \"I like number 123 456 789 012\"\n",
    "str2 = \"lucky number are 12 23 34 45 56 67 78 89\""
   ]
  },
  {
   "cell_type": "markdown",
   "id": "96c968cc",
   "metadata": {},
   "source": [
    "## 1. What is the name of the feature responsible for generating Regex objects?\n",
    "The re.compile() function returns Regex objects."
   ]
  },
  {
   "cell_type": "markdown",
   "id": "a7420c07",
   "metadata": {},
   "source": [
    "## 2. Why do raw strings often appear in Regex objects?\n",
    "Raw strings are used so that backslashes do not have to be escaped."
   ]
  },
  {
   "cell_type": "code",
   "execution_count": 2,
   "id": "a54174ff",
   "metadata": {},
   "outputs": [
    {
     "name": "stdout",
     "output_type": "stream",
     "text": [
      "<class 're.Pattern'>\n",
      "['123', '456', '789', '012']\n",
      "['12', '23', '34', '45', '56', '67', '78', '89']\n"
     ]
    }
   ],
   "source": [
    "# pattern to find three consecutive digits\n",
    "string_pattern = r\"\\d{3}\"\n",
    "# compile string pattern to re.Pattern object\n",
    "regex_pattern = re.compile(string_pattern)\n",
    "\n",
    "# print the type of compiled pattern\n",
    "print(type(regex_pattern))\n",
    "# Output <class 're.Pattern'>\n",
    "\n",
    "# find all the matches in string one\n",
    "result = regex_pattern.findall(str1)\n",
    "print(result)\n",
    "# Output ['251', '761', '231', '451']\n",
    "\n",
    "# find all the matches in second string by reusing the same pattern\n",
    "string_pattern2 = r\"\\d{2}\"\n",
    "regex_pattern2 = re.compile(string_pattern2)\n",
    "result2 = regex_pattern2.findall(str2)\n",
    "print(result2)\n",
    "# Output ['111', '212', '415']"
   ]
  },
  {
   "cell_type": "markdown",
   "id": "711933d0",
   "metadata": {},
   "source": [
    "## 3. What is the return value of the search() method?\n",
    "The function searches for some substring in a string and returns a match object if found, else it returns none"
   ]
  },
  {
   "cell_type": "code",
   "execution_count": 3,
   "id": "22d4246e",
   "metadata": {},
   "outputs": [
    {
     "name": "stdout",
     "output_type": "stream",
     "text": [
      "The first white-space character is located in position: 1\n",
      "The first white-space character is located in position: 5\n",
      "The string number in text found at: <re.Match object; span=(6, 12), match='number'>\n"
     ]
    }
   ],
   "source": [
    "x = re.search(\"\\s\", str1)\n",
    "y = re.search(\"\\s\", str2)\n",
    "\n",
    "print(\"The first white-space character is located in position:\", x.start())\n",
    "print(\"The first white-space character is located in position:\", y.start())\n",
    "print(\"The string number in text found at:\", re.search(\"number\", str2))"
   ]
  },
  {
   "cell_type": "markdown",
   "id": "c114762c",
   "metadata": {},
   "source": [
    "## 4. From a Match item, how do you get the actual strings that match the pattern?\n",
    "The group() method returns strings of the matched text."
   ]
  },
  {
   "cell_type": "code",
   "execution_count": 4,
   "id": "c8d48b9a",
   "metadata": {},
   "outputs": [
    {
     "data": {
      "text/plain": [
       "'number'"
      ]
     },
     "execution_count": 4,
     "metadata": {},
     "output_type": "execute_result"
    }
   ],
   "source": [
    "get_list = re.search(\"number\", str2)\n",
    "get_list.group()"
   ]
  },
  {
   "cell_type": "markdown",
   "id": "85eb9430",
   "metadata": {},
   "source": [
    "## 5. In the regex which created from the r'(\\d\\d\\d)-(\\d\\d\\d-\\d\\d\\d\\d)', what does group zero cover? Group 2? Group 1?\n",
    "It cover Group 1"
   ]
  },
  {
   "cell_type": "code",
   "execution_count": 5,
   "id": "6374e15d",
   "metadata": {},
   "outputs": [],
   "source": [
    "pattern = r'(\\d\\d\\d)-(\\d\\d\\d-\\d\\d\\d\\d)'\n",
    "regex_pattern = re.compile(pattern)"
   ]
  },
  {
   "cell_type": "markdown",
   "id": "f78fece2",
   "metadata": {},
   "source": [
    "## 6. In standard expression syntax, parentheses and intervals have distinct meanings. How can you tell a regex that you want it to fit real parentheses and periods?\n",
    "Periods and parentheses can be escaped with a backslash: \\., \\(, and \\)."
   ]
  },
  {
   "cell_type": "markdown",
   "id": "127aaba4",
   "metadata": {},
   "source": [
    "## 7. The findall() method returns a string list or a list of string tuples. What causes it to return one of the two options?\n",
    "If the regex has no groups, a list of strings is returned. \n",
    "\n",
    "If the regex has groups, a list of tuples of strings is returned."
   ]
  },
  {
   "cell_type": "code",
   "execution_count": 6,
   "id": "3527a59b",
   "metadata": {},
   "outputs": [
    {
     "name": "stdout",
     "output_type": "stream",
     "text": [
      "[]\n"
     ]
    }
   ],
   "source": [
    "result = regex_pattern.findall(str1)\n",
    "print(result)"
   ]
  },
  {
   "cell_type": "markdown",
   "id": "ab56b9c4",
   "metadata": {},
   "source": [
    "## 8. In standard expressions, what does the | character mean?\n",
    "The | character signifies matching \"either, or\" between two groups."
   ]
  },
  {
   "cell_type": "code",
   "execution_count": 7,
   "id": "686f431b",
   "metadata": {},
   "outputs": [
    {
     "data": {
      "text/plain": [
       "['like', 'number']"
      ]
     },
     "execution_count": 7,
     "metadata": {},
     "output_type": "execute_result"
    }
   ],
   "source": [
    "re.compile(r'(like|number)').findall(str1)"
   ]
  },
  {
   "cell_type": "markdown",
   "id": "6cb2e6b8",
   "metadata": {},
   "source": [
    "## 9. In regular expressions, what does the character stand for?\n",
    "characters enclosed within square brackets. \n",
    "\n",
    "It specifies the characters that will successfully match a single character from a given input string."
   ]
  },
  {
   "cell_type": "code",
   "execution_count": 8,
   "id": "bc75b1f8",
   "metadata": {},
   "outputs": [
    {
     "name": "stdout",
     "output_type": "stream",
     "text": [
      "['11', '45']\n",
      "Yes, there is at least one match!\n"
     ]
    }
   ],
   "source": [
    "txt = \"8 times before 11:45 AM\"\n",
    "\n",
    "#Check if the string has any two-digit numbers, from 00 to 59:\n",
    "\n",
    "x = re.findall(\"[0-5][0-9]\", txt)\n",
    "\n",
    "print(x)\n",
    "\n",
    "if x:\n",
    "  print(\"Yes, there is at least one match!\")\n",
    "else:\n",
    "  print(\"No match\")"
   ]
  },
  {
   "cell_type": "markdown",
   "id": "135473f5",
   "metadata": {},
   "source": [
    "## 10. In regular expressions, what is the difference between the + and * characters?\n",
    "The + matches one or more. The * matches zero or more."
   ]
  },
  {
   "cell_type": "code",
   "execution_count": 9,
   "id": "91424532",
   "metadata": {},
   "outputs": [
    {
     "name": "stdout",
     "output_type": "stream",
     "text": [
      "['hello']\n"
     ]
    }
   ],
   "source": [
    "txt = \"hello planet\"\n",
    "\n",
    "#Search for a sequence that starts with \"he\", followed by 0 or more  (any) characters, and an \"o\":\n",
    "\n",
    "x = re.findall(\"he.*o\", txt)\n",
    "\n",
    "print(x)"
   ]
  },
  {
   "cell_type": "code",
   "execution_count": 10,
   "id": "db398eb0",
   "metadata": {},
   "outputs": [
    {
     "name": "stdout",
     "output_type": "stream",
     "text": [
      "['hello']\n"
     ]
    }
   ],
   "source": [
    "#Search for a sequence that starts with \"he\", followed by 1 or more  (any) characters, and an \"o\":\n",
    "\n",
    "x = re.findall(\"he.+o\", txt)\n",
    "\n",
    "print(x)"
   ]
  },
  {
   "cell_type": "markdown",
   "id": "d7a5ae5b",
   "metadata": {},
   "source": [
    "## 11. What is the difference between {4} and {4,5} in regular expression?\n",
    "The {4} matches exactly three instances of the preceding group. The {4,5} matches between three and five instances."
   ]
  },
  {
   "cell_type": "code",
   "execution_count": 11,
   "id": "ce94bc67",
   "metadata": {},
   "outputs": [
    {
     "name": "stdout",
     "output_type": "stream",
     "text": [
      "['hello']\n"
     ]
    }
   ],
   "source": [
    "x = re.findall(\"he.{2}o\", txt)\n",
    "\n",
    "print(x)"
   ]
  },
  {
   "cell_type": "code",
   "execution_count": 12,
   "id": "153063ca",
   "metadata": {},
   "outputs": [
    {
     "name": "stdout",
     "output_type": "stream",
     "text": [
      "['hello']\n"
     ]
    }
   ],
   "source": [
    "x = re.findall(\"h.{3}o\", txt)\n",
    "\n",
    "print(x)"
   ]
  },
  {
   "cell_type": "code",
   "execution_count": 13,
   "id": "9df4135f",
   "metadata": {},
   "outputs": [
    {
     "name": "stdout",
     "output_type": "stream",
     "text": [
      "['hell']\n"
     ]
    }
   ],
   "source": [
    "x = re.findall(\"h.{3}\", txt)\n",
    "\n",
    "print(x)"
   ]
  },
  {
   "cell_type": "code",
   "execution_count": 14,
   "id": "7ff289c8",
   "metadata": {},
   "outputs": [
    {
     "name": "stdout",
     "output_type": "stream",
     "text": [
      "['hello']\n"
     ]
    }
   ],
   "source": [
    "x = re.findall(\"h.{3,4}\", txt)\n",
    "\n",
    "print(x)"
   ]
  },
  {
   "cell_type": "code",
   "execution_count": 15,
   "id": "f08fbd5d",
   "metadata": {},
   "outputs": [
    {
     "name": "stdout",
     "output_type": "stream",
     "text": [
      "['hello']\n"
     ]
    }
   ],
   "source": [
    "x = re.findall(\"h.{4}\", txt)\n",
    "\n",
    "print(x)"
   ]
  },
  {
   "cell_type": "code",
   "execution_count": 16,
   "id": "f532e709",
   "metadata": {},
   "outputs": [
    {
     "name": "stdout",
     "output_type": "stream",
     "text": [
      "['hello ']\n"
     ]
    }
   ],
   "source": [
    "x = re.findall(\"h.{4,5}\", txt)\n",
    "\n",
    "print(x)"
   ]
  },
  {
   "cell_type": "markdown",
   "id": "33d79dd7",
   "metadata": {},
   "source": [
    "## 12. What do you mean by the \\d, \\w, and \\s shorthand character classes signify in regular expressions?\n",
    "The \\d, \\w, and \\s shorthand character classes match a single digit, word, or space character, respectively."
   ]
  },
  {
   "cell_type": "code",
   "execution_count": 17,
   "id": "b3c2838c",
   "metadata": {},
   "outputs": [
    {
     "name": "stdout",
     "output_type": "stream",
     "text": [
      "[]\n",
      "No match\n"
     ]
    }
   ],
   "source": [
    "txt = \"The rain in Spain\"\n",
    "\n",
    "#Check if the string contains any digits (numbers from 0-9):\n",
    "\n",
    "x = re.findall(\"\\d\", txt)\n",
    "\n",
    "print(x)\n",
    "\n",
    "if x:\n",
    "  print(\"Yes, there is at least one match!\")\n",
    "else:\n",
    "  print(\"No match\")"
   ]
  },
  {
   "cell_type": "code",
   "execution_count": 18,
   "id": "dfc5c20d",
   "metadata": {},
   "outputs": [
    {
     "name": "stdout",
     "output_type": "stream",
     "text": [
      "['T', 'h', 'e', 'r', 'a', 'i', 'n', 'i', 'n', 'S', 'p', 'a', 'i', 'n']\n",
      "Yes, there is at least one match!\n"
     ]
    }
   ],
   "source": [
    "txt = \"The rain in Spain\"\n",
    "\n",
    "#Check if the string contains any digits (numbers from 0-9):\n",
    "\n",
    "x = re.findall(\"\\w\", txt)\n",
    "\n",
    "print(x)\n",
    "\n",
    "if x:\n",
    "  print(\"Yes, there is at least one match!\")\n",
    "else:\n",
    "  print(\"No match\")\n"
   ]
  },
  {
   "cell_type": "code",
   "execution_count": 19,
   "id": "404e2941",
   "metadata": {},
   "outputs": [
    {
     "name": "stdout",
     "output_type": "stream",
     "text": [
      "[' ', ' ', ' ']\n",
      "Yes, there is at least one match!\n"
     ]
    }
   ],
   "source": [
    "txt = \"The rain in Spain\"\n",
    "\n",
    "#Check if the string contains any digits (numbers from 0-9):\n",
    "\n",
    "x = re.findall(\"\\s\", txt)\n",
    "\n",
    "print(x)\n",
    "\n",
    "if x:\n",
    "  print(\"Yes, there is at least one match!\")\n",
    "else:\n",
    "  print(\"No match\")\n"
   ]
  },
  {
   "cell_type": "markdown",
   "id": "b37bdaa6",
   "metadata": {},
   "source": [
    "## 13. What do means by \\D, \\W, and \\S shorthand character classes signify in regular expressions?\n",
    "The \\D, \\W, and \\S shorthand character classes match a single character that is not a digit, word, or space character, respectively."
   ]
  },
  {
   "cell_type": "code",
   "execution_count": 20,
   "id": "5074e2d2",
   "metadata": {},
   "outputs": [
    {
     "name": "stdout",
     "output_type": "stream",
     "text": [
      "['T', 'h', 'e', ' ', 'r', 'a', 'i', 'n', ' ', 'i', 'n', ' ', 'S', 'p', 'a', 'i', 'n']\n",
      "Yes, there is at least one match!\n"
     ]
    }
   ],
   "source": [
    "txt = \"The rain in Spain\"\n",
    "\n",
    "#Check if the string contains any digits (numbers from 0-9):\n",
    "\n",
    "x = re.findall(\"\\D\", txt)\n",
    "\n",
    "print(x)\n",
    "\n",
    "if x:\n",
    "  print(\"Yes, there is at least one match!\")\n",
    "else:\n",
    "  print(\"No match\")\n"
   ]
  },
  {
   "cell_type": "code",
   "execution_count": 21,
   "id": "e1003d11",
   "metadata": {},
   "outputs": [
    {
     "name": "stdout",
     "output_type": "stream",
     "text": [
      "[' ', ' ', ' ']\n",
      "Yes, there is at least one match!\n"
     ]
    }
   ],
   "source": [
    "txt = \"The rain in Spain\"\n",
    "\n",
    "#Check if the string contains any digits (numbers from 0-9):\n",
    "\n",
    "x = re.findall(\"\\W\", txt)\n",
    "\n",
    "print(x)\n",
    "\n",
    "if x:\n",
    "  print(\"Yes, there is at least one match!\")\n",
    "else:\n",
    "  print(\"No match\")\n"
   ]
  },
  {
   "cell_type": "code",
   "execution_count": 22,
   "id": "9bbfea9d",
   "metadata": {},
   "outputs": [
    {
     "name": "stdout",
     "output_type": "stream",
     "text": [
      "['T', 'h', 'e', 'r', 'a', 'i', 'n', 'i', 'n', 'S', 'p', 'a', 'i', 'n']\n",
      "Yes, there is at least one match!\n"
     ]
    }
   ],
   "source": [
    "txt = \"The rain in Spain\"\n",
    "\n",
    "#Check if the string contains any digits (numbers from 0-9):\n",
    "\n",
    "x = re.findall(\"\\S\", txt)\n",
    "\n",
    "print(x)\n",
    "\n",
    "if x:\n",
    "  print(\"Yes, there is at least one match!\")\n",
    "else:\n",
    "  print(\"No match\")\n"
   ]
  },
  {
   "cell_type": "markdown",
   "id": "0bbc1759",
   "metadata": {},
   "source": [
    "## 14. What is the difference between .* ? and * ?\n",
    "The .* matches one or more. The * matches zero or more."
   ]
  },
  {
   "cell_type": "code",
   "execution_count": 23,
   "id": "69a88093",
   "metadata": {},
   "outputs": [
    {
     "data": {
      "text/plain": [
       "['hello']"
      ]
     },
     "execution_count": 23,
     "metadata": {},
     "output_type": "execute_result"
    }
   ],
   "source": [
    "str = 'hello'\n",
    "re.findall(\"he.*o\", str)"
   ]
  },
  {
   "cell_type": "code",
   "execution_count": 24,
   "id": "04a5b573",
   "metadata": {},
   "outputs": [
    {
     "data": {
      "text/plain": [
       "[]"
      ]
     },
     "execution_count": 24,
     "metadata": {},
     "output_type": "execute_result"
    }
   ],
   "source": [
    "re.findall(\"he*o\", str)"
   ]
  },
  {
   "cell_type": "markdown",
   "id": "3306cc72",
   "metadata": {},
   "source": [
    "## 15. What is the syntax for matching both numbers and lowercase letters with a character class?"
   ]
  },
  {
   "cell_type": "code",
   "execution_count": 25,
   "id": "892ca7f1",
   "metadata": {},
   "outputs": [],
   "source": [
    "patterns = '^[a-z0-9]*$'"
   ]
  },
  {
   "cell_type": "markdown",
   "id": "d5e30177",
   "metadata": {},
   "source": [
    "## 16. What is the procedure for making a normal expression in regax case insensitive?\n",
    "using IGNORECASE"
   ]
  },
  {
   "cell_type": "code",
   "execution_count": 26,
   "id": "de8e70f6",
   "metadata": {},
   "outputs": [
    {
     "name": "stdout",
     "output_type": "stream",
     "text": [
      "<re.Match object; span=(0, 4), match='BuSh'>\n",
      "<re.Match object; span=(0, 4), match='BuSh'>\n",
      "xxxxmeat\n"
     ]
    }
   ],
   "source": [
    "print (re.search('bush', 'BuSh', re.IGNORECASE))\n",
    "print (re.match('bush', 'BuSh', re.IGNORECASE))\n",
    "print (re.sub('bush', 'xxxx', 'Bushmeat', flags=re.IGNORECASE))"
   ]
  },
  {
   "cell_type": "markdown",
   "id": "180bf403",
   "metadata": {},
   "source": [
    "## 17. What does the . character normally match? What does it match if re.DOTALL is passed as 2nd argument in re.compile()?\n",
    "The . character normally matches any character except the newline character. \n",
    "\n",
    "If re.DOTALL is passed as the second argument to re.compile(), then the dot will also match newline characters.\n"
   ]
  },
  {
   "cell_type": "markdown",
   "id": "01acf3c4",
   "metadata": {},
   "source": [
    "## 18. If numReg = re.compile(r'\\d+'), what will numRegex.sub('X', '11 drummers, 10 pipers, five rings, 4 hen') return?\n",
    "'X drummers, X pipers, five rings, X hens'"
   ]
  },
  {
   "cell_type": "code",
   "execution_count": 27,
   "id": "b44dc7d4",
   "metadata": {},
   "outputs": [
    {
     "data": {
      "text/plain": [
       "'X drummers, X pipers, five rings, X hen'"
      ]
     },
     "execution_count": 27,
     "metadata": {},
     "output_type": "execute_result"
    }
   ],
   "source": [
    "numReg = re.compile(r'\\d+')\n",
    "numReg.sub('X', '11 drummers, 10 pipers, five rings, 4 hen')"
   ]
  },
  {
   "cell_type": "markdown",
   "id": "71affde9",
   "metadata": {},
   "source": [
    "## 19. What does passing re.VERBOSE as the 2nd argument to re.compile() allow to do?\n",
    "The re.VERBOSE argument allows you to add whitespace and comments to the string passed to re.compile()."
   ]
  },
  {
   "cell_type": "code",
   "execution_count": 28,
   "id": "0e6fd0f3",
   "metadata": {},
   "outputs": [],
   "source": [
    "# Without Using VERBOSE\n",
    "regex_email = re.compile(r'^([a-z0-9_\\.-]+)@([0-9a-z\\.-]+)\\.([a-z\\.]{2, 6})$',re.IGNORECASE)\n",
    "\n",
    "# Using VERBOSE\n",
    "regex_email = re.compile(r\"\"\"\n",
    "                        ^([a-z0-9_\\.-]+)       # local Part\n",
    "                        @                      # single @ sign\n",
    "                        ([0-9a-z\\.-]+)         # Domain name\n",
    "                        \\.                     # single Dot .    \n",
    "                        ([a-z]{2,6})$          # Top level Domain  \n",
    "\"\"\",re.VERBOSE | re.IGNORECASE)\n"
   ]
  },
  {
   "cell_type": "markdown",
   "id": "888a6cc2",
   "metadata": {},
   "source": [
    "## 20. How would you write a regex that match a number with comma for every three digits? It must match the given following:\n",
    "'42'\n",
    "\n",
    "'1,234'\n",
    "\n",
    "'6,368,745'\n",
    "\n",
    "but not the following:\n",
    "\n",
    "'12,34,567' (which has only two digits between the commas)\n",
    "\n",
    "'1234' (which lacks commas)\n"
   ]
  },
  {
   "cell_type": "code",
   "execution_count": 29,
   "id": "4abcf5f1",
   "metadata": {},
   "outputs": [
    {
     "name": "stdout",
     "output_type": "stream",
     "text": [
      "<re.Match object; span=(0, 2), match='42'>\n",
      "<re.Match object; span=(0, 5), match='1,234'>\n",
      "<re.Match object; span=(0, 9), match='6,368,745'>\n"
     ]
    }
   ],
   "source": [
    "reg = re.compile(r'^\\d{1,3}(,\\d{3})*$')\n",
    "print(reg.search('42'))\n",
    "print(reg.search('1,234'))\n",
    "print(reg.search('6,368,745'))"
   ]
  },
  {
   "cell_type": "code",
   "execution_count": 30,
   "id": "6c6e6f6e",
   "metadata": {},
   "outputs": [
    {
     "name": "stdout",
     "output_type": "stream",
     "text": [
      "None\n",
      "None\n"
     ]
    }
   ],
   "source": [
    "print(reg.search('12,34,567'))\n",
    "print(reg.search('1234'))"
   ]
  },
  {
   "cell_type": "markdown",
   "id": "18c9a9ce",
   "metadata": {},
   "source": [
    "## 21. How would you write a regex that matches the full name of someone whose last name is Watanabe? You can assume that the first name that comes before it will always be one word that begins with a capital letter. The regex must match the following:\n",
    "'Haruto Watanabe'\n",
    "\n",
    "'Alice Watanabe'\n",
    "\n",
    "'RoboCop Watanabe'\n",
    "\n",
    "but not the following:\n",
    "    \n",
    "'haruto Watanabe' (where the first name is not capitalized)\n",
    "\n",
    "'Mr. Watanabe' (where the preceding word has a nonletter character)\n",
    "\n",
    "'Watanabe' (which has no first name)\n",
    "\n",
    "'Haruto watanabe' (where Watanabe is not capitalized)\n"
   ]
  },
  {
   "cell_type": "code",
   "execution_count": 32,
   "id": "a2efa60d",
   "metadata": {},
   "outputs": [],
   "source": [
    "reg = re.compile(r'(^[A-Z][a-zA-Z]*) (Watanabe)$')"
   ]
  },
  {
   "cell_type": "code",
   "execution_count": 33,
   "id": "fdb25600",
   "metadata": {},
   "outputs": [
    {
     "name": "stdout",
     "output_type": "stream",
     "text": [
      "<re.Match object; span=(0, 15), match='Haruto Watanabe'>\n",
      "<re.Match object; span=(0, 14), match='Alice Watanabe'>\n",
      "<re.Match object; span=(0, 16), match='RoboCop Watanabe'>\n"
     ]
    }
   ],
   "source": [
    "print(reg.search('Haruto Watanabe'))\n",
    "print(reg.search('Alice Watanabe'))\n",
    "print(reg.search('RoboCop Watanabe'))"
   ]
  },
  {
   "cell_type": "code",
   "execution_count": 34,
   "id": "4e2edbd2",
   "metadata": {},
   "outputs": [
    {
     "name": "stdout",
     "output_type": "stream",
     "text": [
      "None\n",
      "None\n",
      "None\n",
      "None\n"
     ]
    }
   ],
   "source": [
    "print(reg.search('haruto Watanabe'))\n",
    "print(reg.search('Mr. Watanabe'))\n",
    "print(reg.search('Watanabe'))\n",
    "print(reg.search('Haruto watanabe'))"
   ]
  },
  {
   "cell_type": "markdown",
   "id": "0c1de1df",
   "metadata": {},
   "source": [
    "## 22. How would you write a regex that matches a sentence where the first word is either Alice, Bob, or Carol; the second word is either eats, pets, or throws; the third word is apples, cats, or baseballs; and the sentence ends with a period? This regex should be case-insensitive. It must match the following:\n",
    "'Alice eats apples.'\n",
    "\n",
    "'Bob pets cats.'\n",
    "\n",
    "'Carol throws baseballs.'\n",
    "\n",
    "'Alice throws Apples.'\n",
    "\n",
    "'BOB EATS CATS.'\n",
    "\n",
    "but not the following:\n",
    "    \n",
    "'RoboCop eats apples.'\n",
    "\n",
    "'ALICE THROWS FOOTBALLS.'\n",
    "\n",
    "'Carol eats 7 cats.'\n"
   ]
  },
  {
   "cell_type": "code",
   "execution_count": 35,
   "id": "ed37535c",
   "metadata": {},
   "outputs": [],
   "source": [
    "pattern=re.compile(r'(Alice|Bob|Carol)\\s+(eats|pets|throws)\\s+(apples|cats|baseballs)\\.', re.IGNORECASE)"
   ]
  },
  {
   "cell_type": "code",
   "execution_count": 36,
   "id": "dc1c307d",
   "metadata": {},
   "outputs": [
    {
     "name": "stdout",
     "output_type": "stream",
     "text": [
      "<re.Match object; span=(0, 18), match='Alice eats apples.'>\n",
      "<re.Match object; span=(0, 14), match='Bob pets cats.'>\n",
      "<re.Match object; span=(0, 23), match='Carol throws baseballs.'>\n",
      "<re.Match object; span=(0, 20), match='Alice throws Apples.'>\n",
      "<re.Match object; span=(0, 14), match='BOB EATS CATS.'>\n"
     ]
    }
   ],
   "source": [
    "print(pattern.search('Alice eats apples.'))\n",
    "print(pattern.search('Bob pets cats.'))\n",
    "print(pattern.search('Carol throws baseballs.'))\n",
    "print(pattern.search('Alice throws Apples.'))\n",
    "print(pattern.search('BOB EATS CATS.'))"
   ]
  },
  {
   "cell_type": "code",
   "execution_count": 37,
   "id": "58f0f430",
   "metadata": {},
   "outputs": [
    {
     "name": "stdout",
     "output_type": "stream",
     "text": [
      "None\n",
      "None\n",
      "None\n"
     ]
    }
   ],
   "source": [
    "print(pattern.search('RoboCop eats apples.'))\n",
    "print(pattern.search('ALICE THROWS FOOTBALLS.'))\n",
    "print(pattern.search('Carol eats 7 cats.'))"
   ]
  }
 ],
 "metadata": {
  "kernelspec": {
   "display_name": "Python 3",
   "language": "python",
   "name": "python3"
  },
  "language_info": {
   "codemirror_mode": {
    "name": "ipython",
    "version": 3
   },
   "file_extension": ".py",
   "mimetype": "text/x-python",
   "name": "python",
   "nbconvert_exporter": "python",
   "pygments_lexer": "ipython3",
   "version": "3.8.8"
  }
 },
 "nbformat": 4,
 "nbformat_minor": 5
}
