{
 "cells": [
  {
   "cell_type": "markdown",
   "id": "4d1d6078",
   "metadata": {},
   "source": [
    "## 1. What does one mean by the term \"machine learning\"?\n",
    "Machine Learning is the science of getting computers to learn and act like humans do, and improve their learning over time in autonomous fashion, by feeding them data and information in the form of observations and real-world interactions"
   ]
  },
  {
   "cell_type": "markdown",
   "id": "b7532225",
   "metadata": {},
   "source": [
    "## 2. Can you think of 4 distinct types of issues where it shines?\n",
    "machine learning can help \n",
    "1. IT teams unlock the value hidden in huge volumes of operations data, reducing the time to find and diagnose issues\n",
    "\n",
    "2. Credit card fraud detection\n",
    "\n",
    "3. Face detection and recognition\n",
    "\n",
    "4. Enable self-driving cars"
   ]
  },
  {
   "cell_type": "markdown",
   "id": "1fa70abd",
   "metadata": {},
   "source": [
    "## 3. What is a labeled training set, and how does it work?\n",
    "\n",
    "Labelled training set is a set of training data which has a solution to the problem or task (also known as labels or dependent/independent variables).\n",
    "\n",
    "Labelled data is a designation for pieces of data that have been tagged with one or more labels identifying certain properties or characteristics, or classifications or contained objects. \n",
    "\n",
    "Labels make that data specifically useful in certain types of machine learning known as supervised machine learning setups. \n",
    "\n",
    "Labelled dataset is the process of identifying raw data (images, text files, videos, etc.) and adding one or more meaningful and informative labels to provide context so that a machine learning model can learn from it."
   ]
  },
  {
   "cell_type": "markdown",
   "id": "e66d175b",
   "metadata": {},
   "source": [
    "## 4. What are the two most important tasks that are supervised?\n",
    "\n",
    "1. Regression (dependent variable is continuous)\n",
    "2. Classification (dependent varibale is categorical)"
   ]
  },
  {
   "cell_type": "markdown",
   "id": "0a1990ac",
   "metadata": {},
   "source": [
    "## 5. Can you think of four examples of unsupervised tasks?\n",
    "Unsupervised learning is when it can provide a set of unlabelled data, which it is required to analyze and find patterns inside.\n",
    "\n",
    "1. Visual recognition\n",
    "2. Speech recognition\n",
    "3. robotics\n",
    "4. discover similar items bought together"
   ]
  },
  {
   "cell_type": "markdown",
   "id": "2cfba692",
   "metadata": {},
   "source": [
    "## 6. State the machine learning model that would be best to make a robot walk through various unfamiliar terrains?\n",
    "\n",
    "Reinforced Learning, where the robot can learn from response of the terrain to optimize itself.\n",
    "\n",
    "Reinforcement learning is a system where an \"agent\" observes the environment, selects and performs actions, then recieves a reward or punishment based on the result of the action."
   ]
  },
  {
   "cell_type": "markdown",
   "id": "3ee1f6d6",
   "metadata": {},
   "source": [
    "## 7. Which algorithm will you use to divide your customers into different groups?\n",
    "\n",
    "1. If groups have known labels then we use supervised learning (Classification)\n",
    "2. If groups have no labels then we use unsupervised learning (Clustering)"
   ]
  },
  {
   "cell_type": "markdown",
   "id": "97d60a0c",
   "metadata": {},
   "source": [
    "## 8. Will you consider the problem of spam detection to be a supervised or unsupervised learning problem?\n",
    "\n",
    "Supervised learning (Classification problem)"
   ]
  },
  {
   "cell_type": "markdown",
   "id": "86e7b154",
   "metadata": {},
   "source": [
    "## 9. What is the concept of an online learning system?\n",
    "\n",
    "Online learning system is a learning system in which the machine learns as data is given in small streams continuously. \n",
    "\n",
    "In computer science, online machine learning is a method of machine learning in which data becomes available in a sequential order and is used to update the best predictor for future data at each step, as opposed to batch learning techniques which generate the best predictor by learning on the entire training data set at once. \n",
    "\n",
    "Online learning is a common technique used in areas of machine learning where it is computationally infeasible to train over the entire dataset, requiring the need of out-of-core algorithms. It is also used in situations where it is necessary for the algorithm to dynamically adapt to new patterns in the data, or when the data itself is generated as a function of time, e.g., stock price prediction. \n",
    "\n",
    "Online learning algorithms may be prone to catastrophic interference, a problem that can be addressed by incremental learning approaches."
   ]
  },
  {
   "cell_type": "markdown",
   "id": "47c06077",
   "metadata": {},
   "source": [
    "## 10. What is out-of-core learning, and how does it differ from core learning?\n",
    "\n",
    "Out-of-core learning system is a system that can handle data that cannot fit into your computer memory. It uses online learning system to feed data in small bits. \n",
    "\n",
    "Out-of-core learning refers to a set of algorithms working with data that cannot fit into the memory of a single computer, but that can easily fit into some data storage such as a local hard disk or web repository. Your available RAM, the core memory on your single machine, may indeed range from a few gigabytes (sometimes 2 GB, more commonly 4 GB, but we assume that you have 2 GB at maximum) up to 256 GB on large server machines. \n",
    "\n",
    "Large servers are like the ones you can get on cloud computing services such as Amazon Elastic Compute Cloud (EC2), whereas your storage capabilities can easily exceed terabytes of capacity using just an external drive (most likely about 1 TB but it can reach up to 4 TB). As machine learning is based on globally reducing a cost function, many algorithms initially have been thought to work using all the available data and having access to it at each iteration of the optimization process"
   ]
  },
  {
   "cell_type": "markdown",
   "id": "29e1e210",
   "metadata": {},
   "source": [
    "## 11. What kind of learning algorithm makes predictions using a similarity measure?\n",
    "\n",
    "instance-based algorithm\n",
    "\n",
    "In an instance-based learning system, the algorithm learns the examples by heart, then uses the similarity measure to generalize."
   ]
  },
  {
   "cell_type": "markdown",
   "id": "9163828f",
   "metadata": {},
   "source": [
    "## 12. What's the difference between a model parameter and a hyperparameter in a learning algorithm?\n",
    "\n",
    "**Model Parameter**\n",
    "A model parameter is a configuration variable that is internal to the model and whose value can be estimated from data.\n",
    "\n",
    "They are required by the model when making predictions.\n",
    "They values define the skill of the model on your problem.\n",
    "They are estimated or learned from data.\n",
    "They are often not set manually by the practitioner.\n",
    "They are often saved as part of the learned model.\n",
    "Parameters are key to machine learning algorithms. They are the part of the model that is learned from historical training data.\n",
    "\n",
    "**Model Hyperparameter**\n",
    "A model hyperparameter is a configuration that is external to the model and whose value cannot be estimated from data.\n",
    "\n",
    "They are often used in processes to help estimate model parameters.\n",
    "They are often specified by the practitioner.\n",
    "They can often be set using heuristics.\n",
    "They are often tuned for a given predictive modeling problem.\n",
    "We cannot know the best value for a model hyperparameter on a given problem. We may use rules of thumb, copy values used on other problems, or search for the best value by trial and error.\n",
    "\n",
    "When a machine learning algorithm is tuned for a specific problem, such as when you are using a grid search or a random search, then you are tuning the hyperparameters of the model or order to discover the parameters of the model that result in the most skillful predictions.\n",
    "\n",
    "Model hyperparameters are often referred to as model parameters which can make things confusing. A good rule of thumb to overcome this confusion is as follows:\n",
    "\n",
    "If you have to specify a model parameter manually then it is probably a model hyperparameter.\n",
    "\n",
    "**In summary** model parameters are estimated from data automatically and model hyperparameters are set manually and are used in processes to help estimate model parameters.\n",
    "\n",
    "Model hyperparameters are often referred to as parameters because they are the parts of the machine learning that must be set manually and tuned."
   ]
  },
  {
   "cell_type": "markdown",
   "id": "e2026b89",
   "metadata": {},
   "source": [
    "## 13. What are the criteria that model-based learning algorithms look for? What is the most popular method they use to achieve success? What method do they use to make predictions?\n",
    "\n",
    "The goal for a model-based algorithm is to be able to generalize to new examples. To do this, model based algorithms search for optimal values for the model's parameters.\n",
    "\n",
    "This searching, or \"learning\", is what machine learning is all about. Model-based system learn by minimizing a cost function that measures how bad the system is at making predicitons on new data, plus a penalty for model complexity if the model is regularized. \n",
    "\n",
    "To make a prediction, a new instance's features are fed into a hypothesis function which uses the minimized error found by repeatedly running the cost function."
   ]
  },
  {
   "cell_type": "markdown",
   "id": "9df90da1",
   "metadata": {},
   "source": [
    "## 14. Can you name four of the most important Machine Learning challenges?\n",
    "\n",
    "1. overfitting the data (using a model too complicated)\n",
    "2. underfitting the data (using a simple model)\n",
    "3. lacking in data, the dataset is full of missing values, outliers, and noise (poor measurments).\n",
    "4. nonrepresentative data or sampling noise. Sampling noise means we'll have non-representative data as a result of chance."
   ]
  },
  {
   "cell_type": "markdown",
   "id": "9793d145",
   "metadata": {},
   "source": [
    "## 15. What happens if the model performs well on the training data but fails to generalize the results to new situations? Can you think of three different options?\n",
    "\n",
    "This is a case where the model is overfitting the training data. \n",
    "\n",
    "To couteract overfitting, we can reduce the complexity of the model by \n",
    "\n",
    "1. Removing features or constraining the parameters. \n",
    "2. We could gather more data. \n",
    "3. we can reduce noise in the data by fixing errors and removing outliers."
   ]
  },
  {
   "cell_type": "markdown",
   "id": "34c6d7d5",
   "metadata": {},
   "source": [
    "## 16. What exactly is a test set, and why would you need one?\n",
    "\n",
    "When we want to know how well our model generalizes to new cases we prefer to use a test set instead of actually deploying the system. To build the test set we split the training data (70-30, 60-40, 80-20 are common splits) into a training set and test set. \n",
    "Our model trains with the training set. Then we use the model to run predictions on the test set. Our error rate on the test set is called the generalization error or out-of-sample error. This error tells us how well our model performs on examples it has never seen before.\n",
    "\n",
    "If the training error is low, but the generalization error is high, it means we're overfitting our model. vice versa is underfitting our model."
   ]
  },
  {
   "cell_type": "markdown",
   "id": "bcb944b3",
   "metadata": {},
   "source": [
    "## 17. What is a validation set's purpose?\n",
    "\n",
    "If we want to perform some hyperparameter tuning to reduce the generalization error. We try different hyperparameter values using the training set and finds the generalization error with the test set. But you may find your model resulting a higher error when deployed into production\n",
    "\n",
    "The problem is that for each iteration of hyperparameter tuning, you measured the generalization error then updated the model using the same test set. In other words, you've produced the best generalization error for the test set. The test set no longer represents cases the model hasn't seen before.\n",
    "\n",
    "A common solution to this problem is to have a second holdout set called the validation set. You train multiple models with various hyperparameters using the training set, you select the model and hyperparameters that perform best on the validation set, and when you are happy about your model you run a single final test against the test set to get an estimate of the generalization error.\n",
    "\n",
    "Cross-validation helps us compare models without wasting too much training data in the validation set."
   ]
  },
  {
   "cell_type": "markdown",
   "id": "abe809fe",
   "metadata": {},
   "source": [
    "## 18. What precisely is the train-dev kit, when will you need it, how do you put it to use?\n",
    "\n",
    "Setting up the training, development (dev) and test sets has a huge impact on productivity.\n",
    "\n",
    "It is important to choose the dev and test sets from the same distribution and it must be taken randomly from all the data."
   ]
  },
  {
   "cell_type": "markdown",
   "id": "a927420d",
   "metadata": {},
   "source": [
    "## 19. What could go wrong if you use the test set to tune hyperparameters?\n",
    "\n",
    "The model created will not be generalized to new examples."
   ]
  }
 ],
 "metadata": {
  "kernelspec": {
   "display_name": "Python 3",
   "language": "python",
   "name": "python3"
  },
  "language_info": {
   "codemirror_mode": {
    "name": "ipython",
    "version": 3
   },
   "file_extension": ".py",
   "mimetype": "text/x-python",
   "name": "python",
   "nbconvert_exporter": "python",
   "pygments_lexer": "ipython3",
   "version": "3.8.8"
  }
 },
 "nbformat": 4,
 "nbformat_minor": 5
}
