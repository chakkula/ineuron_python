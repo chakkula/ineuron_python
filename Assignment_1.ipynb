{
  "nbformat": 4,
  "nbformat_minor": 0,
  "metadata": {
    "colab": {
      "name": "Assignment_1.ipynb",
      "provenance": [],
      "collapsed_sections": []
    },
    "kernelspec": {
      "name": "python3",
      "display_name": "Python 3"
    },
    "language_info": {
      "name": "python"
    }
  },
  "cells": [
    {
      "cell_type": "markdown",
      "source": [
        "In this module we are going to solve basics python assignment. The question and answers are inline and added code wherever necessary"
      ],
      "metadata": {
        "id": "jXBOGXChYEWu"
      }
    },
    {
      "cell_type": "markdown",
      "source": [
        "## 1. In the below elements which of them are values or an expression? eg:- values can be integer or string and expressions will be mathematical operators."
      ],
      "metadata": {
        "id": "mlywer50Ydqd"
      }
    },
    {
      "cell_type": "markdown",
      "source": [
        "-*/+ are Mathematical operators\n",
        "'hello' and -87.8 are values"
      ],
      "metadata": {
        "id": "zQPET5S_bWlX"
      }
    },
    {
      "cell_type": "code",
      "source": [
        "# * is a mathematical operator used for multiplication when used twice (**) \n",
        "# - is a mathematical operator used for subtraction\n",
        "# / is a mathematical operator used for division and // for floor division that gives information about the divisor of the division\n",
        "# + is a mathematical operator used for Addition\n",
        "print('Multiply 2 and 3:', 2*3)\n",
        "print('what is 2 power 3:', 2**3)\n",
        "print('Subtract 2 from 5:', 5-2)\n",
        "print('Add 2 and 5:', 5+2)\n",
        "print('what is 5 divided by 2:',5/3)\n",
        "print('How many multiples of 2 are present in 5:',5//2)\n",
        "\n",
        "# hello is a string\n",
        "print(type('hello'))\n",
        "#-87.8 is an integer\n",
        "print(type(-87.8))\n",
        "#6 is an integer\n",
        "print(type(6))"
      ],
      "metadata": {
        "colab": {
          "base_uri": "https://localhost:8080/"
        },
        "id": "jI_xpvaaZAeG",
        "outputId": "40dd21c2-aa8a-441d-ae31-3047412d6c21"
      },
      "execution_count": 25,
      "outputs": [
        {
          "output_type": "stream",
          "name": "stdout",
          "text": [
            "Multiply 2 and 3: 6\n",
            "what is 2 power 3: 8\n",
            "Subtract 2 from 5: 3\n",
            "Add 2 and 5: 7\n",
            "what is 5 divided by 2: 1.6666666666666667\n",
            "How many multiples of 2 are present in 5: 2\n",
            "<class 'str'>\n",
            "<class 'float'>\n",
            "<class 'int'>\n"
          ]
        }
      ]
    },
    {
      "cell_type": "markdown",
      "source": [
        "## 2. What is the difference between string and variable?"
      ],
      "metadata": {
        "id": "bp3iGjonYmom"
      }
    },
    {
      "cell_type": "markdown",
      "source": [
        "a string is a value representing text\n",
        "\n",
        "a variable is a name that can refer to any value.\n",
        "\n",
        "the quotes are there to indicate that the text that they enclose is not code, it is a value . quotes, double or single, (they mean the same, but can’t be matched with each other) are used to create string literals, "
      ],
      "metadata": {
        "id": "W0WwO3qLd8s_"
      }
    },
    {
      "cell_type": "code",
      "source": [
        "# 'hello' is a string\n",
        "print(type('hello'))\n",
        "# var, var1 are variables\n",
        "var = 'hello'\n",
        "var1 = 5\n",
        "print(type(var))\n",
        "print(type(var1))"
      ],
      "metadata": {
        "colab": {
          "base_uri": "https://localhost:8080/"
        },
        "id": "O6xOi-AeeO1a",
        "outputId": "39512f48-32f6-4f7b-9bd7-7ef0634345e4"
      },
      "execution_count": 8,
      "outputs": [
        {
          "output_type": "stream",
          "name": "stdout",
          "text": [
            "<class 'str'>\n",
            "<class 'str'>\n",
            "<class 'int'>\n"
          ]
        }
      ]
    },
    {
      "cell_type": "markdown",
      "source": [
        "## 3. Describe three different data types."
      ],
      "metadata": {
        "id": "OhZ5m6bzfAFV"
      }
    },
    {
      "cell_type": "markdown",
      "source": [
        "Standard or Built-In Data Types in Python\n",
        "1. Numbers : \n",
        "The four numeric types supported by Python include integers, float, long, and complex numbers. \n",
        "2. Strings : \n",
        "Strings represent arrays of characters.\n",
        "3. Lists : \n",
        "Lists are amongst the most versatile and used data types in Python. Lists function in the same way as strings. \n",
        "4. Tuples : \n",
        "Tuples are referred to as containers that have several values separated by commas and mentioned inside parentheses. Tuples are not too different from lists.\n",
        "5. Dictionary : \n",
        "Dictionaries in Python enable storage and access to data that has something or the other to do with computers as well as humans. They don’t follow any order and have values and keys. Keys are unique, and values could be integers, floats, strings, or even a combination of these.\n",
        "\n",
        "The differences between the two – lists contain mutable objects and are enclosed between square brackets while tuples contain immutable objects and are enclosed between parentheses. "
      ],
      "metadata": {
        "id": "Fo2uvPsTfB2k"
      }
    },
    {
      "cell_type": "markdown",
      "source": [
        "## 4. What is an expression made up of? What do all expressions do?"
      ],
      "metadata": {
        "id": "vMIPQihjgby8"
      }
    },
    {
      "cell_type": "markdown",
      "source": [
        "**Expression**: An expression is a combination of operators, constants and variables. An expression may consist of one or more operands, and zero or more operators to produce a value. Expressions may be of the following types:\n",
        "\n",
        "**Constant expressions:** Constant Expressions consists of only constant values. A constant value is one that doesn’t change. \n",
        "\n",
        "Examples: 5, 10 + 5 / 6.0, 'x’\n",
        "\n",
        "**Integral expressions :** Integral Expressions are those which produce integer results after implementing all the automatic and explicit type conversions. \n",
        "\n",
        "Examples: x, x * y, x + int( 5.0) where x and y are integer variables.\n",
        "\n",
        "**Floating expressions:** Float Expressions are which produce floating point results after implementing all the automatic and explicit type conversions.\n",
        "\n",
        "\n",
        "**Relational expressions:** Relational Expressions yield results of type bool which takes a value true or false. When arithmetic expressions are used on either side of a relational operator, they will be evaluated first and then the results compared. Relational expressions are also known as Boolean expressions.\n",
        "\n",
        "Examples: x <= y, x + y > 2\n",
        "\n",
        "**Logical expressions:** Logical Expressions combine two or more relational expressions and produces bool type results.\n",
        "\n",
        "Examples:  x > y && x == 10, x == 10 || y == 5\n",
        "\n",
        "**Pointer expressions** : Pointer Expressions produce address values.\n",
        "\n",
        "Examples: &x, ptr, ptr++\n",
        "where x is a variable and ptr is a pointer.\n",
        "\n",
        "**Bitwise expressions** : Bitwise Expressions are used to manipulate data at bit level. They are basically used for testing or shifting bits.\n",
        "\n",
        "Examples:\n",
        "x << 3\n",
        "shifts three bit position to left\n",
        "\n",
        "y >> 1\n",
        "shifts one bit position to right.\n",
        "\n",
        "Shift operators are often used for multiplication and division by powers of two.\n",
        "\n",
        "**compound expressions:** An expression may also use combinations of the above expressions. Such expressions are known as compound expressions.\n"
      ],
      "metadata": {
        "id": "_epo_FA8hLaU"
      }
    },
    {
      "cell_type": "markdown",
      "source": [
        "## 5. This assignment statements, like spam = 10. What is the difference between an expression and a statement?"
      ],
      "metadata": {
        "id": "ZMbuVyf-kO3t"
      }
    },
    {
      "cell_type": "markdown",
      "source": [
        "**Expressions** only contain identifiers, literals and operators, where operators include arithmetic and boolean operators, the function call operator () the subscription operator [] and similar, and can be reduced to some kind of \"value\", which can be any Python object\n",
        "\n",
        "**Statements** on the other hand, are everything that can make up a line (or several lines) of Python code. Note that expressions are statements as well"
      ],
      "metadata": {
        "id": "kJ0xPquOlLyr"
      }
    },
    {
      "cell_type": "code",
      "source": [
        "# 10 is an expression\n",
        "# spam = 10 is a statement"
      ],
      "metadata": {
        "id": "3u5ahuq-lgwi"
      },
      "execution_count": null,
      "outputs": []
    },
    {
      "cell_type": "markdown",
      "source": [
        "## 6. After running the following code, what does the variable bacon contain?\n"
      ],
      "metadata": {
        "id": "HYOBf4KJkWwX"
      }
    },
    {
      "cell_type": "code",
      "source": [
        "bacon = 22\n",
        "print(bacon + 1)\n",
        "\n",
        "#The variable bacon contains the value 23"
      ],
      "metadata": {
        "colab": {
          "base_uri": "https://localhost:8080/"
        },
        "id": "IygjmyXQlsgu",
        "outputId": "a0ce1c16-68e2-4ae5-cae1-3b15a51c9f0f"
      },
      "execution_count": 10,
      "outputs": [
        {
          "output_type": "stream",
          "name": "stdout",
          "text": [
            "23\n"
          ]
        }
      ]
    },
    {
      "cell_type": "markdown",
      "source": [
        "## 7. What should the values of the following two terms be?\n",
        "&#39;spam&#39; + &#39;spamspam&#39;\n",
        "&#39;spam&#39; * 3"
      ],
      "metadata": {
        "id": "gbzjgtRtkaKa"
      }
    },
    {
      "cell_type": "code",
      "source": [
        "# both the expressions results the same value\n",
        "print(\"'spam'+'spampspam' prints the value:  \"'spam' + 'spamspam')\n",
        "print('spam'*3)"
      ],
      "metadata": {
        "colab": {
          "base_uri": "https://localhost:8080/"
        },
        "id": "8swuQKffmDUC",
        "outputId": "034774bc-da90-499d-859d-407b66b4b3cd"
      },
      "execution_count": 20,
      "outputs": [
        {
          "output_type": "stream",
          "name": "stdout",
          "text": [
            "'spam'+'spampspam' prints the value:  spamspamspam\n",
            "spamspamspam\n"
          ]
        }
      ]
    },
    {
      "cell_type": "markdown",
      "source": [
        "## 8. Why is eggs a valid variable name while 100 is invalid?\n",
        "Variable name should start with letter(a-zA-Z) or underscore (_)."
      ],
      "metadata": {
        "id": "1XmuYOAbkdeT"
      }
    },
    {
      "cell_type": "code",
      "source": [
        "eggs = 100\n",
        "print(type(eggs))"
      ],
      "metadata": {
        "colab": {
          "base_uri": "https://localhost:8080/"
        },
        "id": "IU2d725unK8q",
        "outputId": "93118306-d957-4ecd-818e-126089e4aa07"
      },
      "execution_count": 24,
      "outputs": [
        {
          "output_type": "stream",
          "name": "stdout",
          "text": [
            "<class 'int'>\n"
          ]
        }
      ]
    },
    {
      "cell_type": "code",
      "source": [
        "100 = 'egg'\n",
        "print(type(100))"
      ],
      "metadata": {
        "colab": {
          "base_uri": "https://localhost:8080/",
          "height": 130
        },
        "id": "sj1LKLp3noWq",
        "outputId": "0a57d510-9bd8-4ef6-f264-9489a0394a7e"
      },
      "execution_count": 23,
      "outputs": [
        {
          "output_type": "error",
          "ename": "SyntaxError",
          "evalue": "ignored",
          "traceback": [
            "\u001b[0;36m  File \u001b[0;32m\"<ipython-input-23-fe1fc481cf8e>\"\u001b[0;36m, line \u001b[0;32m1\u001b[0m\n\u001b[0;31m    100 = 'egg'\u001b[0m\n\u001b[0m               ^\u001b[0m\n\u001b[0;31mSyntaxError\u001b[0m\u001b[0;31m:\u001b[0m can't assign to literal\n"
          ]
        }
      ]
    },
    {
      "cell_type": "markdown",
      "source": [
        "## 9. What three functions can be used to get the integer, floating-point number, or string version of a value?\n",
        "integer - int()\n",
        "\n",
        "floting - float()\n",
        "\n",
        "string - str()"
      ],
      "metadata": {
        "id": "1Ezq5WCNkh-p"
      }
    },
    {
      "cell_type": "markdown",
      "source": [
        "## 10. Why does this expression cause an error? How can you fix it?\n",
        "&#39;I have eaten &#39; + 99 + &#39; burritos.&#39;"
      ],
      "metadata": {
        "id": "0KcZvvp-kk5F"
      }
    },
    {
      "cell_type": "code",
      "source": [
        "print('I have eaten ' + 99 + ' burritos.')"
      ],
      "metadata": {
        "colab": {
          "base_uri": "https://localhost:8080/",
          "height": 165
        },
        "id": "jCc6HNFZoZIy",
        "outputId": "2090be75-9298-477f-fd88-b45ff8a8a627"
      },
      "execution_count": 26,
      "outputs": [
        {
          "output_type": "error",
          "ename": "TypeError",
          "evalue": "ignored",
          "traceback": [
            "\u001b[0;31m---------------------------------------------------------------------------\u001b[0m",
            "\u001b[0;31mTypeError\u001b[0m                                 Traceback (most recent call last)",
            "\u001b[0;32m<ipython-input-26-008a44ca1b55>\u001b[0m in \u001b[0;36m<module>\u001b[0;34m()\u001b[0m\n\u001b[0;32m----> 1\u001b[0;31m \u001b[0mprint\u001b[0m\u001b[0;34m(\u001b[0m\u001b[0;34m'I have eaten '\u001b[0m \u001b[0;34m+\u001b[0m \u001b[0;36m99\u001b[0m \u001b[0;34m+\u001b[0m \u001b[0;34m' burritos.'\u001b[0m\u001b[0;34m)\u001b[0m\u001b[0;34m\u001b[0m\u001b[0;34m\u001b[0m\u001b[0m\n\u001b[0m",
            "\u001b[0;31mTypeError\u001b[0m: can only concatenate str (not \"int\") to str"
          ]
        }
      ]
    },
    {
      "cell_type": "code",
      "source": [
        "print('I have eaten ' + str(99) + ' burritos.')"
      ],
      "metadata": {
        "colab": {
          "base_uri": "https://localhost:8080/"
        },
        "id": "g3FKbccVob5Z",
        "outputId": "c5827b69-10e7-473f-9ccd-8ee0a52491ce"
      },
      "execution_count": 27,
      "outputs": [
        {
          "output_type": "stream",
          "name": "stdout",
          "text": [
            "I have eaten 99 burritos.\n"
          ]
        }
      ]
    }
  ]
}